{
 "cells": [
  {
   "cell_type": "markdown",
   "id": "1ed33ec4",
   "metadata": {},
   "source": [
    "# Importe de librerias"
   ]
  },
  {
   "cell_type": "code",
   "execution_count": 6,
   "id": "a7164b09",
   "metadata": {},
   "outputs": [],
   "source": [
    "import lightning as L\n",
    "from pytorch_lightning.loggers import CSVLogger\n",
    "\n",
    "from sklearn.model_selection import train_test_split\n",
    "import torch\n",
    "import optuna\n",
    "\n",
    "torch.set_float32_matmul_precision('high')"
   ]
  },
  {
   "cell_type": "code",
   "execution_count": 7,
   "id": "ef1ae47a",
   "metadata": {},
   "outputs": [],
   "source": [
    "from dataset import LitPriceData\n",
    "from trainer import LitTrainer"
   ]
  },
  {
   "cell_type": "code",
   "execution_count": 8,
   "id": "d813fc17",
   "metadata": {},
   "outputs": [],
   "source": [
    "from utils import splitData"
   ]
  },
  {
   "cell_type": "code",
   "execution_count": 9,
   "id": "022385ba",
   "metadata": {},
   "outputs": [],
   "source": [
    "name = \"bitcoin\"\n",
    "\n",
    "def objective(trial):   \n",
    "    hidden_size = trial.suggest_int(\"hidden_size\", 32, 128)\n",
    "    num_layers = trial.suggest_int(\"num_layers\", 2, 5)\n",
    "    lr = trial.suggest_float(\"lr\", 1e-4, 1e-2, log=True)\n",
    "    dropout= trial.suggest_float(\"dropout\", 0.0, 0.5)\n",
    "    \n",
    "    sequence_length = trial.suggest_int(\"sequence_legth\", 12, 72, step=12)\n",
    "\n",
    "    logger = CSVLogger(\"lightning_logs\", name=\"optuna\")\n",
    "    \n",
    "    model = LitTrainer(hidden_size=hidden_size, num_layers=num_layers, lr=lr, dropout=dropout)\n",
    "    X, y = splitData(name, sequence_length=sequence_length)\n",
    "    X_train, X_val, y_train, y_val = train_test_split(X, y, test_size=0.2, random_state=42)\n",
    "    dataModule = LitPriceData(X_train, y_train, X_val, y_val)\n",
    "       \n",
    "    trainer = L.Trainer(max_epochs=75, accelerator=\"auto\", logger=logger, enable_progress_bar=False, enable_model_summary=False, enable_checkpointing=False, log_every_n_steps=2)\n",
    "    trainer.fit(model=model, datamodule=dataModule)\n",
    "    \n",
    "    return trainer.callback_metrics[\"val_loss\"].item()"
   ]
  },
  {
   "cell_type": "code",
   "execution_count": null,
   "id": "5e0d5de6",
   "metadata": {},
   "outputs": [
    {
     "name": "stderr",
     "output_type": "stream",
     "text": [
      "[I 2025-07-09 03:03:48,836] A new study created in memory with name: no-name-57e891d8-7fdc-4b1c-bb40-cdf9f1ca97c4\n",
      "GPU available: True (cuda), used: True\n",
      "TPU available: False, using: 0 TPU cores\n",
      "HPU available: False, using: 0 HPUs\n",
      "LOCAL_RANK: 0 - CUDA_VISIBLE_DEVICES: [0]\n",
      "/home/giorgio6846/miniconda3/envs/TF-ML/lib/python3.11/site-packages/lightning/pytorch/trainer/connectors/data_connector.py:425: The 'val_dataloader' does not have many workers which may be a bottleneck. Consider increasing the value of the `num_workers` argument` to `num_workers=11` in the `DataLoader` to improve performance.\n",
      "/home/giorgio6846/miniconda3/envs/TF-ML/lib/python3.11/site-packages/lightning/pytorch/trainer/connectors/data_connector.py:425: The 'train_dataloader' does not have many workers which may be a bottleneck. Consider increasing the value of the `num_workers` argument` to `num_workers=11` in the `DataLoader` to improve performance.\n",
      "\n",
      "Detected KeyboardInterrupt, attempting graceful shutdown ...\n",
      "[W 2025-07-09 03:03:49,417] Trial 0 failed with parameters: {'hidden_size': 56, 'num_layers': 2, 'lr': 0.008921998249171573, 'dropout': 0.31804937052096693, 'sequence_legth': 48} because of the following error: NameError(\"name 'exit' is not defined\").\n",
      "Traceback (most recent call last):\n",
      "  File \"/home/giorgio6846/miniconda3/envs/TF-ML/lib/python3.11/site-packages/lightning/pytorch/trainer/call.py\", line 48, in _call_and_handle_interrupt\n",
      "    return trainer_fn(*args, **kwargs)\n",
      "           ^^^^^^^^^^^^^^^^^^^^^^^^^^^\n",
      "  File \"/home/giorgio6846/miniconda3/envs/TF-ML/lib/python3.11/site-packages/lightning/pytorch/trainer/trainer.py\", line 599, in _fit_impl\n",
      "    self._run(model, ckpt_path=ckpt_path)\n",
      "  File \"/home/giorgio6846/miniconda3/envs/TF-ML/lib/python3.11/site-packages/lightning/pytorch/trainer/trainer.py\", line 1012, in _run\n",
      "    results = self._run_stage()\n",
      "              ^^^^^^^^^^^^^^^^^\n",
      "  File \"/home/giorgio6846/miniconda3/envs/TF-ML/lib/python3.11/site-packages/lightning/pytorch/trainer/trainer.py\", line 1056, in _run_stage\n",
      "    self.fit_loop.run()\n",
      "  File \"/home/giorgio6846/miniconda3/envs/TF-ML/lib/python3.11/site-packages/lightning/pytorch/loops/fit_loop.py\", line 216, in run\n",
      "    self.advance()\n",
      "  File \"/home/giorgio6846/miniconda3/envs/TF-ML/lib/python3.11/site-packages/lightning/pytorch/loops/fit_loop.py\", line 455, in advance\n",
      "    self.epoch_loop.run(self._data_fetcher)\n",
      "  File \"/home/giorgio6846/miniconda3/envs/TF-ML/lib/python3.11/site-packages/lightning/pytorch/loops/training_epoch_loop.py\", line 153, in run\n",
      "    self.on_advance_end(data_fetcher)\n",
      "  File \"/home/giorgio6846/miniconda3/envs/TF-ML/lib/python3.11/site-packages/lightning/pytorch/loops/training_epoch_loop.py\", line 394, in on_advance_end\n",
      "    self.val_loop.run()\n",
      "  File \"/home/giorgio6846/miniconda3/envs/TF-ML/lib/python3.11/site-packages/lightning/pytorch/loops/utilities.py\", line 179, in _decorator\n",
      "    return loop_run(self, *args, **kwargs)\n",
      "           ^^^^^^^^^^^^^^^^^^^^^^^^^^^^^^^\n",
      "  File \"/home/giorgio6846/miniconda3/envs/TF-ML/lib/python3.11/site-packages/lightning/pytorch/loops/evaluation_loop.py\", line 145, in run\n",
      "    self._evaluation_step(batch, batch_idx, dataloader_idx, dataloader_iter)\n",
      "  File \"/home/giorgio6846/miniconda3/envs/TF-ML/lib/python3.11/site-packages/lightning/pytorch/loops/evaluation_loop.py\", line 437, in _evaluation_step\n",
      "    output = call._call_strategy_hook(trainer, hook_name, *step_args)\n",
      "             ^^^^^^^^^^^^^^^^^^^^^^^^^^^^^^^^^^^^^^^^^^^^^^^^^^^^^^^^\n",
      "  File \"/home/giorgio6846/miniconda3/envs/TF-ML/lib/python3.11/site-packages/lightning/pytorch/trainer/call.py\", line 328, in _call_strategy_hook\n",
      "    output = fn(*args, **kwargs)\n",
      "             ^^^^^^^^^^^^^^^^^^^\n",
      "  File \"/home/giorgio6846/miniconda3/envs/TF-ML/lib/python3.11/site-packages/lightning/pytorch/strategies/strategy.py\", line 412, in validation_step\n",
      "    return self.lightning_module.validation_step(*args, **kwargs)\n",
      "           ^^^^^^^^^^^^^^^^^^^^^^^^^^^^^^^^^^^^^^^^^^^^^^^^^^^^^^\n",
      "  File \"/home/giorgio6846/Code/Clases/Machine Learning/TF/src/trainer.py\", line 24, in validation_step\n",
      "    self.log(\"val_loss\", loss)\n",
      "  File \"/home/giorgio6846/miniconda3/envs/TF-ML/lib/python3.11/site-packages/lightning/pytorch/core/module.py\", line 452, in log\n",
      "    results = trainer._results\n",
      "              ^^^^^^^^^^^^^^^^\n",
      "  File \"/home/giorgio6846/miniconda3/envs/TF-ML/lib/python3.11/site-packages/lightning/pytorch/trainer/trainer.py\", line 1671, in _results\n",
      "    active_loop = self._active_loop\n",
      "                  ^^^^^^^^^^^^^^^^^\n",
      "  File \"/home/giorgio6846/miniconda3/envs/TF-ML/lib/python3.11/site-packages/lightning/pytorch/trainer/trainer.py\", line 1595, in _active_loop\n",
      "    if self.sanity_checking or self.evaluating:\n",
      "                               ^^^^^^^^^^^^^^^\n",
      "  File \"/home/giorgio6846/miniconda3/envs/TF-ML/lib/python3.11/site-packages/lightning/pytorch/trainer/trainer.py\", line 1454, in evaluating\n",
      "    return self.state.stage is not None and self.state.stage.evaluating\n",
      "                                            ^^^^^^^^^^^^^^^^^^^^^^^^^^^\n",
      "  File \"/home/giorgio6846/miniconda3/envs/TF-ML/lib/python3.11/site-packages/lightning/pytorch/trainer/states.py\", line 63, in evaluating\n",
      "    @property\n",
      "    \n",
      "KeyboardInterrupt\n",
      "\n",
      "During handling of the above exception, another exception occurred:\n",
      "\n",
      "Traceback (most recent call last):\n",
      "  File \"/home/giorgio6846/miniconda3/envs/TF-ML/lib/python3.11/site-packages/optuna/study/_optimize.py\", line 201, in _run_trial\n",
      "    value_or_values = func(trial)\n",
      "                      ^^^^^^^^^^^\n",
      "  File \"/tmp/ipykernel_497380/2474614648.py\", line 19, in objective\n",
      "    trainer.fit(model=model, datamodule=dataModule)\n",
      "  File \"/home/giorgio6846/miniconda3/envs/TF-ML/lib/python3.11/site-packages/lightning/pytorch/trainer/trainer.py\", line 561, in fit\n",
      "    call._call_and_handle_interrupt(\n",
      "  File \"/home/giorgio6846/miniconda3/envs/TF-ML/lib/python3.11/site-packages/lightning/pytorch/trainer/call.py\", line 65, in _call_and_handle_interrupt\n",
      "    exit(1)\n",
      "    ^^^^\n",
      "NameError: name 'exit' is not defined\n",
      "[W 2025-07-09 03:03:49,427] Trial 0 failed with value None.\n"
     ]
    },
    {
     "ename": "NameError",
     "evalue": "name 'exit' is not defined",
     "output_type": "error",
     "traceback": [
      "\u001b[31m---------------------------------------------------------------------------\u001b[39m",
      "\u001b[31mKeyboardInterrupt\u001b[39m                         Traceback (most recent call last)",
      "\u001b[36mFile \u001b[39m\u001b[32m~/miniconda3/envs/TF-ML/lib/python3.11/site-packages/lightning/pytorch/trainer/call.py:48\u001b[39m, in \u001b[36m_call_and_handle_interrupt\u001b[39m\u001b[34m(trainer, trainer_fn, *args, **kwargs)\u001b[39m\n\u001b[32m     47\u001b[39m         \u001b[38;5;28;01mreturn\u001b[39;00m trainer.strategy.launcher.launch(trainer_fn, *args, trainer=trainer, **kwargs)\n\u001b[32m---> \u001b[39m\u001b[32m48\u001b[39m     \u001b[38;5;28;01mreturn\u001b[39;00m \u001b[43mtrainer_fn\u001b[49m\u001b[43m(\u001b[49m\u001b[43m*\u001b[49m\u001b[43margs\u001b[49m\u001b[43m,\u001b[49m\u001b[43m \u001b[49m\u001b[43m*\u001b[49m\u001b[43m*\u001b[49m\u001b[43mkwargs\u001b[49m\u001b[43m)\u001b[49m\n\u001b[32m     50\u001b[39m \u001b[38;5;28;01mexcept\u001b[39;00m _TunerExitException:\n",
      "\u001b[36mFile \u001b[39m\u001b[32m~/miniconda3/envs/TF-ML/lib/python3.11/site-packages/lightning/pytorch/trainer/trainer.py:599\u001b[39m, in \u001b[36mTrainer._fit_impl\u001b[39m\u001b[34m(self, model, train_dataloaders, val_dataloaders, datamodule, ckpt_path)\u001b[39m\n\u001b[32m    593\u001b[39m ckpt_path = \u001b[38;5;28mself\u001b[39m._checkpoint_connector._select_ckpt_path(\n\u001b[32m    594\u001b[39m     \u001b[38;5;28mself\u001b[39m.state.fn,\n\u001b[32m    595\u001b[39m     ckpt_path,\n\u001b[32m    596\u001b[39m     model_provided=\u001b[38;5;28;01mTrue\u001b[39;00m,\n\u001b[32m    597\u001b[39m     model_connected=\u001b[38;5;28mself\u001b[39m.lightning_module \u001b[38;5;129;01mis\u001b[39;00m \u001b[38;5;129;01mnot\u001b[39;00m \u001b[38;5;28;01mNone\u001b[39;00m,\n\u001b[32m    598\u001b[39m )\n\u001b[32m--> \u001b[39m\u001b[32m599\u001b[39m \u001b[38;5;28;43mself\u001b[39;49m\u001b[43m.\u001b[49m\u001b[43m_run\u001b[49m\u001b[43m(\u001b[49m\u001b[43mmodel\u001b[49m\u001b[43m,\u001b[49m\u001b[43m \u001b[49m\u001b[43mckpt_path\u001b[49m\u001b[43m=\u001b[49m\u001b[43mckpt_path\u001b[49m\u001b[43m)\u001b[49m\n\u001b[32m    601\u001b[39m \u001b[38;5;28;01massert\u001b[39;00m \u001b[38;5;28mself\u001b[39m.state.stopped\n",
      "\u001b[36mFile \u001b[39m\u001b[32m~/miniconda3/envs/TF-ML/lib/python3.11/site-packages/lightning/pytorch/trainer/trainer.py:1012\u001b[39m, in \u001b[36mTrainer._run\u001b[39m\u001b[34m(self, model, ckpt_path)\u001b[39m\n\u001b[32m   1009\u001b[39m \u001b[38;5;66;03m# ----------------------------\u001b[39;00m\n\u001b[32m   1010\u001b[39m \u001b[38;5;66;03m# RUN THE TRAINER\u001b[39;00m\n\u001b[32m   1011\u001b[39m \u001b[38;5;66;03m# ----------------------------\u001b[39;00m\n\u001b[32m-> \u001b[39m\u001b[32m1012\u001b[39m results = \u001b[38;5;28;43mself\u001b[39;49m\u001b[43m.\u001b[49m\u001b[43m_run_stage\u001b[49m\u001b[43m(\u001b[49m\u001b[43m)\u001b[49m\n\u001b[32m   1014\u001b[39m \u001b[38;5;66;03m# ----------------------------\u001b[39;00m\n\u001b[32m   1015\u001b[39m \u001b[38;5;66;03m# POST-Training CLEAN UP\u001b[39;00m\n\u001b[32m   1016\u001b[39m \u001b[38;5;66;03m# ----------------------------\u001b[39;00m\n",
      "\u001b[36mFile \u001b[39m\u001b[32m~/miniconda3/envs/TF-ML/lib/python3.11/site-packages/lightning/pytorch/trainer/trainer.py:1056\u001b[39m, in \u001b[36mTrainer._run_stage\u001b[39m\u001b[34m(self)\u001b[39m\n\u001b[32m   1055\u001b[39m \u001b[38;5;28;01mwith\u001b[39;00m torch.autograd.set_detect_anomaly(\u001b[38;5;28mself\u001b[39m._detect_anomaly):\n\u001b[32m-> \u001b[39m\u001b[32m1056\u001b[39m     \u001b[38;5;28;43mself\u001b[39;49m\u001b[43m.\u001b[49m\u001b[43mfit_loop\u001b[49m\u001b[43m.\u001b[49m\u001b[43mrun\u001b[49m\u001b[43m(\u001b[49m\u001b[43m)\u001b[49m\n\u001b[32m   1057\u001b[39m \u001b[38;5;28;01mreturn\u001b[39;00m \u001b[38;5;28;01mNone\u001b[39;00m\n",
      "\u001b[36mFile \u001b[39m\u001b[32m~/miniconda3/envs/TF-ML/lib/python3.11/site-packages/lightning/pytorch/loops/fit_loop.py:216\u001b[39m, in \u001b[36m_FitLoop.run\u001b[39m\u001b[34m(self)\u001b[39m\n\u001b[32m    215\u001b[39m \u001b[38;5;28mself\u001b[39m.on_advance_start()\n\u001b[32m--> \u001b[39m\u001b[32m216\u001b[39m \u001b[38;5;28;43mself\u001b[39;49m\u001b[43m.\u001b[49m\u001b[43madvance\u001b[49m\u001b[43m(\u001b[49m\u001b[43m)\u001b[49m\n\u001b[32m    217\u001b[39m \u001b[38;5;28mself\u001b[39m.on_advance_end()\n",
      "\u001b[36mFile \u001b[39m\u001b[32m~/miniconda3/envs/TF-ML/lib/python3.11/site-packages/lightning/pytorch/loops/fit_loop.py:455\u001b[39m, in \u001b[36m_FitLoop.advance\u001b[39m\u001b[34m(self)\u001b[39m\n\u001b[32m    454\u001b[39m \u001b[38;5;28;01massert\u001b[39;00m \u001b[38;5;28mself\u001b[39m._data_fetcher \u001b[38;5;129;01mis\u001b[39;00m \u001b[38;5;129;01mnot\u001b[39;00m \u001b[38;5;28;01mNone\u001b[39;00m\n\u001b[32m--> \u001b[39m\u001b[32m455\u001b[39m \u001b[38;5;28;43mself\u001b[39;49m\u001b[43m.\u001b[49m\u001b[43mepoch_loop\u001b[49m\u001b[43m.\u001b[49m\u001b[43mrun\u001b[49m\u001b[43m(\u001b[49m\u001b[38;5;28;43mself\u001b[39;49m\u001b[43m.\u001b[49m\u001b[43m_data_fetcher\u001b[49m\u001b[43m)\u001b[49m\n",
      "\u001b[36mFile \u001b[39m\u001b[32m~/miniconda3/envs/TF-ML/lib/python3.11/site-packages/lightning/pytorch/loops/training_epoch_loop.py:153\u001b[39m, in \u001b[36m_TrainingEpochLoop.run\u001b[39m\u001b[34m(self, data_fetcher)\u001b[39m\n\u001b[32m    152\u001b[39m     \u001b[38;5;28mself\u001b[39m.advance(data_fetcher)\n\u001b[32m--> \u001b[39m\u001b[32m153\u001b[39m     \u001b[38;5;28;43mself\u001b[39;49m\u001b[43m.\u001b[49m\u001b[43mon_advance_end\u001b[49m\u001b[43m(\u001b[49m\u001b[43mdata_fetcher\u001b[49m\u001b[43m)\u001b[49m\n\u001b[32m    154\u001b[39m \u001b[38;5;28;01mexcept\u001b[39;00m \u001b[38;5;167;01mStopIteration\u001b[39;00m:\n",
      "\u001b[36mFile \u001b[39m\u001b[32m~/miniconda3/envs/TF-ML/lib/python3.11/site-packages/lightning/pytorch/loops/training_epoch_loop.py:394\u001b[39m, in \u001b[36m_TrainingEpochLoop.on_advance_end\u001b[39m\u001b[34m(self, data_fetcher)\u001b[39m\n\u001b[32m    392\u001b[39m     call._call_lightning_module_hook(\u001b[38;5;28mself\u001b[39m.trainer, \u001b[33m\"\u001b[39m\u001b[33mon_validation_model_zero_grad\u001b[39m\u001b[33m\"\u001b[39m)\n\u001b[32m--> \u001b[39m\u001b[32m394\u001b[39m \u001b[38;5;28;43mself\u001b[39;49m\u001b[43m.\u001b[49m\u001b[43mval_loop\u001b[49m\u001b[43m.\u001b[49m\u001b[43mrun\u001b[49m\u001b[43m(\u001b[49m\u001b[43m)\u001b[49m\n\u001b[32m    395\u001b[39m \u001b[38;5;28mself\u001b[39m.trainer.training = \u001b[38;5;28;01mTrue\u001b[39;00m\n",
      "\u001b[36mFile \u001b[39m\u001b[32m~/miniconda3/envs/TF-ML/lib/python3.11/site-packages/lightning/pytorch/loops/utilities.py:179\u001b[39m, in \u001b[36m_no_grad_context.<locals>._decorator\u001b[39m\u001b[34m(self, *args, **kwargs)\u001b[39m\n\u001b[32m    178\u001b[39m \u001b[38;5;28;01mwith\u001b[39;00m context_manager():\n\u001b[32m--> \u001b[39m\u001b[32m179\u001b[39m     \u001b[38;5;28;01mreturn\u001b[39;00m \u001b[43mloop_run\u001b[49m\u001b[43m(\u001b[49m\u001b[38;5;28;43mself\u001b[39;49m\u001b[43m,\u001b[49m\u001b[43m \u001b[49m\u001b[43m*\u001b[49m\u001b[43margs\u001b[49m\u001b[43m,\u001b[49m\u001b[43m \u001b[49m\u001b[43m*\u001b[49m\u001b[43m*\u001b[49m\u001b[43mkwargs\u001b[49m\u001b[43m)\u001b[49m\n",
      "\u001b[36mFile \u001b[39m\u001b[32m~/miniconda3/envs/TF-ML/lib/python3.11/site-packages/lightning/pytorch/loops/evaluation_loop.py:145\u001b[39m, in \u001b[36m_EvaluationLoop.run\u001b[39m\u001b[34m(self)\u001b[39m\n\u001b[32m    144\u001b[39m     \u001b[38;5;66;03m# run step hooks\u001b[39;00m\n\u001b[32m--> \u001b[39m\u001b[32m145\u001b[39m     \u001b[38;5;28;43mself\u001b[39;49m\u001b[43m.\u001b[49m\u001b[43m_evaluation_step\u001b[49m\u001b[43m(\u001b[49m\u001b[43mbatch\u001b[49m\u001b[43m,\u001b[49m\u001b[43m \u001b[49m\u001b[43mbatch_idx\u001b[49m\u001b[43m,\u001b[49m\u001b[43m \u001b[49m\u001b[43mdataloader_idx\u001b[49m\u001b[43m,\u001b[49m\u001b[43m \u001b[49m\u001b[43mdataloader_iter\u001b[49m\u001b[43m)\u001b[49m\n\u001b[32m    146\u001b[39m \u001b[38;5;28;01mexcept\u001b[39;00m \u001b[38;5;167;01mStopIteration\u001b[39;00m:\n\u001b[32m    147\u001b[39m     \u001b[38;5;66;03m# this needs to wrap the `*_step` call too (not just `next`) for `dataloader_iter` support\u001b[39;00m\n",
      "\u001b[36mFile \u001b[39m\u001b[32m~/miniconda3/envs/TF-ML/lib/python3.11/site-packages/lightning/pytorch/loops/evaluation_loop.py:437\u001b[39m, in \u001b[36m_EvaluationLoop._evaluation_step\u001b[39m\u001b[34m(self, batch, batch_idx, dataloader_idx, dataloader_iter)\u001b[39m\n\u001b[32m    432\u001b[39m step_args = (\n\u001b[32m    433\u001b[39m     \u001b[38;5;28mself\u001b[39m._build_step_args_from_hook_kwargs(hook_kwargs, hook_name)\n\u001b[32m    434\u001b[39m     \u001b[38;5;28;01mif\u001b[39;00m \u001b[38;5;129;01mnot\u001b[39;00m using_dataloader_iter\n\u001b[32m    435\u001b[39m     \u001b[38;5;28;01melse\u001b[39;00m (dataloader_iter,)\n\u001b[32m    436\u001b[39m )\n\u001b[32m--> \u001b[39m\u001b[32m437\u001b[39m output = \u001b[43mcall\u001b[49m\u001b[43m.\u001b[49m\u001b[43m_call_strategy_hook\u001b[49m\u001b[43m(\u001b[49m\u001b[43mtrainer\u001b[49m\u001b[43m,\u001b[49m\u001b[43m \u001b[49m\u001b[43mhook_name\u001b[49m\u001b[43m,\u001b[49m\u001b[43m \u001b[49m\u001b[43m*\u001b[49m\u001b[43mstep_args\u001b[49m\u001b[43m)\u001b[49m\n\u001b[32m    439\u001b[39m \u001b[38;5;28mself\u001b[39m.batch_progress.increment_processed()\n",
      "\u001b[36mFile \u001b[39m\u001b[32m~/miniconda3/envs/TF-ML/lib/python3.11/site-packages/lightning/pytorch/trainer/call.py:328\u001b[39m, in \u001b[36m_call_strategy_hook\u001b[39m\u001b[34m(trainer, hook_name, *args, **kwargs)\u001b[39m\n\u001b[32m    327\u001b[39m \u001b[38;5;28;01mwith\u001b[39;00m trainer.profiler.profile(\u001b[33mf\u001b[39m\u001b[33m\"\u001b[39m\u001b[33m[Strategy]\u001b[39m\u001b[38;5;132;01m{\u001b[39;00mtrainer.strategy.\u001b[34m__class__\u001b[39m.\u001b[34m__name__\u001b[39m\u001b[38;5;132;01m}\u001b[39;00m\u001b[33m.\u001b[39m\u001b[38;5;132;01m{\u001b[39;00mhook_name\u001b[38;5;132;01m}\u001b[39;00m\u001b[33m\"\u001b[39m):\n\u001b[32m--> \u001b[39m\u001b[32m328\u001b[39m     output = \u001b[43mfn\u001b[49m\u001b[43m(\u001b[49m\u001b[43m*\u001b[49m\u001b[43margs\u001b[49m\u001b[43m,\u001b[49m\u001b[43m \u001b[49m\u001b[43m*\u001b[49m\u001b[43m*\u001b[49m\u001b[43mkwargs\u001b[49m\u001b[43m)\u001b[49m\n\u001b[32m    330\u001b[39m \u001b[38;5;66;03m# restore current_fx when nested context\u001b[39;00m\n",
      "\u001b[36mFile \u001b[39m\u001b[32m~/miniconda3/envs/TF-ML/lib/python3.11/site-packages/lightning/pytorch/strategies/strategy.py:412\u001b[39m, in \u001b[36mStrategy.validation_step\u001b[39m\u001b[34m(self, *args, **kwargs)\u001b[39m\n\u001b[32m    411\u001b[39m     \u001b[38;5;28;01mreturn\u001b[39;00m \u001b[38;5;28mself\u001b[39m._forward_redirection(\u001b[38;5;28mself\u001b[39m.model, \u001b[38;5;28mself\u001b[39m.lightning_module, \u001b[33m\"\u001b[39m\u001b[33mvalidation_step\u001b[39m\u001b[33m\"\u001b[39m, *args, **kwargs)\n\u001b[32m--> \u001b[39m\u001b[32m412\u001b[39m \u001b[38;5;28;01mreturn\u001b[39;00m \u001b[38;5;28;43mself\u001b[39;49m\u001b[43m.\u001b[49m\u001b[43mlightning_module\u001b[49m\u001b[43m.\u001b[49m\u001b[43mvalidation_step\u001b[49m\u001b[43m(\u001b[49m\u001b[43m*\u001b[49m\u001b[43margs\u001b[49m\u001b[43m,\u001b[49m\u001b[43m \u001b[49m\u001b[43m*\u001b[49m\u001b[43m*\u001b[49m\u001b[43mkwargs\u001b[49m\u001b[43m)\u001b[49m\n",
      "\u001b[36mFile \u001b[39m\u001b[32m~/Code/Clases/Machine Learning/TF/src/trainer.py:24\u001b[39m, in \u001b[36mLitTrainer.validation_step\u001b[39m\u001b[34m(self, batch)\u001b[39m\n\u001b[32m     23\u001b[39m loss = F.mse_loss(out, y)\n\u001b[32m---> \u001b[39m\u001b[32m24\u001b[39m \u001b[38;5;28;43mself\u001b[39;49m\u001b[43m.\u001b[49m\u001b[43mlog\u001b[49m\u001b[43m(\u001b[49m\u001b[33;43m\"\u001b[39;49m\u001b[33;43mval_loss\u001b[39;49m\u001b[33;43m\"\u001b[39;49m\u001b[43m,\u001b[49m\u001b[43m \u001b[49m\u001b[43mloss\u001b[49m\u001b[43m)\u001b[49m\n\u001b[32m     25\u001b[39m \u001b[38;5;28;01mreturn\u001b[39;00m loss\n",
      "\u001b[36mFile \u001b[39m\u001b[32m~/miniconda3/envs/TF-ML/lib/python3.11/site-packages/lightning/pytorch/core/module.py:452\u001b[39m, in \u001b[36mLightningModule.log\u001b[39m\u001b[34m(self, name, value, prog_bar, logger, on_step, on_epoch, reduce_fx, enable_graph, sync_dist, sync_dist_group, add_dataloader_idx, batch_size, metric_attribute, rank_zero_only)\u001b[39m\n\u001b[32m    451\u001b[39m     \u001b[38;5;28;01mreturn\u001b[39;00m\n\u001b[32m--> \u001b[39m\u001b[32m452\u001b[39m results = \u001b[43mtrainer\u001b[49m\u001b[43m.\u001b[49m\u001b[43m_results\u001b[49m\n\u001b[32m    453\u001b[39m \u001b[38;5;28;01mif\u001b[39;00m results \u001b[38;5;129;01mis\u001b[39;00m \u001b[38;5;28;01mNone\u001b[39;00m:\n",
      "\u001b[36mFile \u001b[39m\u001b[32m~/miniconda3/envs/TF-ML/lib/python3.11/site-packages/lightning/pytorch/trainer/trainer.py:1671\u001b[39m, in \u001b[36mTrainer._results\u001b[39m\u001b[34m(self)\u001b[39m\n\u001b[32m   1669\u001b[39m \u001b[38;5;129m@property\u001b[39m\n\u001b[32m   1670\u001b[39m \u001b[38;5;28;01mdef\u001b[39;00m\u001b[38;5;250m \u001b[39m\u001b[34m_results\u001b[39m(\u001b[38;5;28mself\u001b[39m) -> Optional[_ResultCollection]:\n\u001b[32m-> \u001b[39m\u001b[32m1671\u001b[39m     active_loop = \u001b[38;5;28;43mself\u001b[39;49m\u001b[43m.\u001b[49m\u001b[43m_active_loop\u001b[49m\n\u001b[32m   1672\u001b[39m     \u001b[38;5;28;01mif\u001b[39;00m active_loop \u001b[38;5;129;01mis\u001b[39;00m \u001b[38;5;129;01mnot\u001b[39;00m \u001b[38;5;28;01mNone\u001b[39;00m:\n",
      "\u001b[36mFile \u001b[39m\u001b[32m~/miniconda3/envs/TF-ML/lib/python3.11/site-packages/lightning/pytorch/trainer/trainer.py:1595\u001b[39m, in \u001b[36mTrainer._active_loop\u001b[39m\u001b[34m(self)\u001b[39m\n\u001b[32m   1594\u001b[39m     \u001b[38;5;28;01mreturn\u001b[39;00m \u001b[38;5;28mself\u001b[39m.fit_loop\n\u001b[32m-> \u001b[39m\u001b[32m1595\u001b[39m \u001b[38;5;28;01mif\u001b[39;00m \u001b[38;5;28mself\u001b[39m.sanity_checking \u001b[38;5;129;01mor\u001b[39;00m \u001b[38;5;28;43mself\u001b[39;49m\u001b[43m.\u001b[49m\u001b[43mevaluating\u001b[49m:\n\u001b[32m   1596\u001b[39m     \u001b[38;5;28;01mreturn\u001b[39;00m \u001b[38;5;28mself\u001b[39m._evaluation_loop\n",
      "\u001b[36mFile \u001b[39m\u001b[32m~/miniconda3/envs/TF-ML/lib/python3.11/site-packages/lightning/pytorch/trainer/trainer.py:1454\u001b[39m, in \u001b[36mTrainer.evaluating\u001b[39m\u001b[34m(self)\u001b[39m\n\u001b[32m   1452\u001b[39m \u001b[38;5;129m@property\u001b[39m\n\u001b[32m   1453\u001b[39m \u001b[38;5;28;01mdef\u001b[39;00m\u001b[38;5;250m \u001b[39m\u001b[34mevaluating\u001b[39m(\u001b[38;5;28mself\u001b[39m) -> \u001b[38;5;28mbool\u001b[39m:\n\u001b[32m-> \u001b[39m\u001b[32m1454\u001b[39m     \u001b[38;5;28;01mreturn\u001b[39;00m \u001b[38;5;28mself\u001b[39m.state.stage \u001b[38;5;129;01mis\u001b[39;00m \u001b[38;5;129;01mnot\u001b[39;00m \u001b[38;5;28;01mNone\u001b[39;00m \u001b[38;5;129;01mand\u001b[39;00m \u001b[38;5;28;43mself\u001b[39;49m\u001b[43m.\u001b[49m\u001b[43mstate\u001b[49m\u001b[43m.\u001b[49m\u001b[43mstage\u001b[49m\u001b[43m.\u001b[49m\u001b[43mevaluating\u001b[49m\n",
      "\u001b[36mFile \u001b[39m\u001b[32m~/miniconda3/envs/TF-ML/lib/python3.11/site-packages/lightning/pytorch/trainer/states.py:63\u001b[39m, in \u001b[36mRunningStage.evaluating\u001b[39m\u001b[34m(self)\u001b[39m\n\u001b[32m     61\u001b[39m PREDICTING = \u001b[33m\"\u001b[39m\u001b[33mpredict\u001b[39m\u001b[33m\"\u001b[39m\n\u001b[32m---> \u001b[39m\u001b[32m63\u001b[39m \u001b[38;5;129m@property\u001b[39m\n\u001b[32m     64\u001b[39m \u001b[38;5;28;01mdef\u001b[39;00m\u001b[38;5;250m \u001b[39m\u001b[34mevaluating\u001b[39m(\u001b[38;5;28mself\u001b[39m) -> \u001b[38;5;28mbool\u001b[39m:\n\u001b[32m     65\u001b[39m     \u001b[38;5;28;01mreturn\u001b[39;00m \u001b[38;5;28mself\u001b[39m \u001b[38;5;129;01min\u001b[39;00m (\u001b[38;5;28mself\u001b[39m.VALIDATING, \u001b[38;5;28mself\u001b[39m.TESTING, \u001b[38;5;28mself\u001b[39m.SANITY_CHECKING)\n",
      "\u001b[31mKeyboardInterrupt\u001b[39m: ",
      "\nDuring handling of the above exception, another exception occurred:\n",
      "\u001b[31mNameError\u001b[39m                                 Traceback (most recent call last)",
      "\u001b[36mCell\u001b[39m\u001b[36m \u001b[39m\u001b[32mIn[10]\u001b[39m\u001b[32m, line 2\u001b[39m\n\u001b[32m      1\u001b[39m study = optuna.create_study(direction=\u001b[33m\"\u001b[39m\u001b[33mminimize\u001b[39m\u001b[33m\"\u001b[39m)\n\u001b[32m----> \u001b[39m\u001b[32m2\u001b[39m \u001b[43mstudy\u001b[49m\u001b[43m.\u001b[49m\u001b[43moptimize\u001b[49m\u001b[43m(\u001b[49m\u001b[43mobjective\u001b[49m\u001b[43m,\u001b[49m\u001b[43m \u001b[49m\u001b[43mn_trials\u001b[49m\u001b[43m=\u001b[49m\u001b[32;43m200\u001b[39;49m\u001b[43m)\u001b[49m\n\u001b[32m      4\u001b[39m \u001b[38;5;28mprint\u001b[39m(\u001b[33m\"\u001b[39m\u001b[33mBest trial:\u001b[39m\u001b[33m\"\u001b[39m)\n\u001b[32m      5\u001b[39m \u001b[38;5;28mprint\u001b[39m(study.best_params)\n",
      "\u001b[36mFile \u001b[39m\u001b[32m~/miniconda3/envs/TF-ML/lib/python3.11/site-packages/optuna/study/study.py:489\u001b[39m, in \u001b[36mStudy.optimize\u001b[39m\u001b[34m(self, func, n_trials, timeout, n_jobs, catch, callbacks, gc_after_trial, show_progress_bar)\u001b[39m\n\u001b[32m    387\u001b[39m \u001b[38;5;28;01mdef\u001b[39;00m\u001b[38;5;250m \u001b[39m\u001b[34moptimize\u001b[39m(\n\u001b[32m    388\u001b[39m     \u001b[38;5;28mself\u001b[39m,\n\u001b[32m    389\u001b[39m     func: ObjectiveFuncType,\n\u001b[32m   (...)\u001b[39m\u001b[32m    396\u001b[39m     show_progress_bar: \u001b[38;5;28mbool\u001b[39m = \u001b[38;5;28;01mFalse\u001b[39;00m,\n\u001b[32m    397\u001b[39m ) -> \u001b[38;5;28;01mNone\u001b[39;00m:\n\u001b[32m    398\u001b[39m \u001b[38;5;250m    \u001b[39m\u001b[33;03m\"\"\"Optimize an objective function.\u001b[39;00m\n\u001b[32m    399\u001b[39m \n\u001b[32m    400\u001b[39m \u001b[33;03m    Optimization is done by choosing a suitable set of hyperparameter values from a given\u001b[39;00m\n\u001b[32m   (...)\u001b[39m\u001b[32m    487\u001b[39m \u001b[33;03m            If nested invocation of this method occurs.\u001b[39;00m\n\u001b[32m    488\u001b[39m \u001b[33;03m    \"\"\"\u001b[39;00m\n\u001b[32m--> \u001b[39m\u001b[32m489\u001b[39m     \u001b[43m_optimize\u001b[49m\u001b[43m(\u001b[49m\n\u001b[32m    490\u001b[39m \u001b[43m        \u001b[49m\u001b[43mstudy\u001b[49m\u001b[43m=\u001b[49m\u001b[38;5;28;43mself\u001b[39;49m\u001b[43m,\u001b[49m\n\u001b[32m    491\u001b[39m \u001b[43m        \u001b[49m\u001b[43mfunc\u001b[49m\u001b[43m=\u001b[49m\u001b[43mfunc\u001b[49m\u001b[43m,\u001b[49m\n\u001b[32m    492\u001b[39m \u001b[43m        \u001b[49m\u001b[43mn_trials\u001b[49m\u001b[43m=\u001b[49m\u001b[43mn_trials\u001b[49m\u001b[43m,\u001b[49m\n\u001b[32m    493\u001b[39m \u001b[43m        \u001b[49m\u001b[43mtimeout\u001b[49m\u001b[43m=\u001b[49m\u001b[43mtimeout\u001b[49m\u001b[43m,\u001b[49m\n\u001b[32m    494\u001b[39m \u001b[43m        \u001b[49m\u001b[43mn_jobs\u001b[49m\u001b[43m=\u001b[49m\u001b[43mn_jobs\u001b[49m\u001b[43m,\u001b[49m\n\u001b[32m    495\u001b[39m \u001b[43m        \u001b[49m\u001b[43mcatch\u001b[49m\u001b[43m=\u001b[49m\u001b[38;5;28;43mtuple\u001b[39;49m\u001b[43m(\u001b[49m\u001b[43mcatch\u001b[49m\u001b[43m)\u001b[49m\u001b[43m \u001b[49m\u001b[38;5;28;43;01mif\u001b[39;49;00m\u001b[43m \u001b[49m\u001b[38;5;28;43misinstance\u001b[39;49m\u001b[43m(\u001b[49m\u001b[43mcatch\u001b[49m\u001b[43m,\u001b[49m\u001b[43m \u001b[49m\u001b[43mIterable\u001b[49m\u001b[43m)\u001b[49m\u001b[43m \u001b[49m\u001b[38;5;28;43;01melse\u001b[39;49;00m\u001b[43m \u001b[49m\u001b[43m(\u001b[49m\u001b[43mcatch\u001b[49m\u001b[43m,\u001b[49m\u001b[43m)\u001b[49m\u001b[43m,\u001b[49m\n\u001b[32m    496\u001b[39m \u001b[43m        \u001b[49m\u001b[43mcallbacks\u001b[49m\u001b[43m=\u001b[49m\u001b[43mcallbacks\u001b[49m\u001b[43m,\u001b[49m\n\u001b[32m    497\u001b[39m \u001b[43m        \u001b[49m\u001b[43mgc_after_trial\u001b[49m\u001b[43m=\u001b[49m\u001b[43mgc_after_trial\u001b[49m\u001b[43m,\u001b[49m\n\u001b[32m    498\u001b[39m \u001b[43m        \u001b[49m\u001b[43mshow_progress_bar\u001b[49m\u001b[43m=\u001b[49m\u001b[43mshow_progress_bar\u001b[49m\u001b[43m,\u001b[49m\n\u001b[32m    499\u001b[39m \u001b[43m    \u001b[49m\u001b[43m)\u001b[49m\n",
      "\u001b[36mFile \u001b[39m\u001b[32m~/miniconda3/envs/TF-ML/lib/python3.11/site-packages/optuna/study/_optimize.py:64\u001b[39m, in \u001b[36m_optimize\u001b[39m\u001b[34m(study, func, n_trials, timeout, n_jobs, catch, callbacks, gc_after_trial, show_progress_bar)\u001b[39m\n\u001b[32m     62\u001b[39m \u001b[38;5;28;01mtry\u001b[39;00m:\n\u001b[32m     63\u001b[39m     \u001b[38;5;28;01mif\u001b[39;00m n_jobs == \u001b[32m1\u001b[39m:\n\u001b[32m---> \u001b[39m\u001b[32m64\u001b[39m         \u001b[43m_optimize_sequential\u001b[49m\u001b[43m(\u001b[49m\n\u001b[32m     65\u001b[39m \u001b[43m            \u001b[49m\u001b[43mstudy\u001b[49m\u001b[43m,\u001b[49m\n\u001b[32m     66\u001b[39m \u001b[43m            \u001b[49m\u001b[43mfunc\u001b[49m\u001b[43m,\u001b[49m\n\u001b[32m     67\u001b[39m \u001b[43m            \u001b[49m\u001b[43mn_trials\u001b[49m\u001b[43m,\u001b[49m\n\u001b[32m     68\u001b[39m \u001b[43m            \u001b[49m\u001b[43mtimeout\u001b[49m\u001b[43m,\u001b[49m\n\u001b[32m     69\u001b[39m \u001b[43m            \u001b[49m\u001b[43mcatch\u001b[49m\u001b[43m,\u001b[49m\n\u001b[32m     70\u001b[39m \u001b[43m            \u001b[49m\u001b[43mcallbacks\u001b[49m\u001b[43m,\u001b[49m\n\u001b[32m     71\u001b[39m \u001b[43m            \u001b[49m\u001b[43mgc_after_trial\u001b[49m\u001b[43m,\u001b[49m\n\u001b[32m     72\u001b[39m \u001b[43m            \u001b[49m\u001b[43mreseed_sampler_rng\u001b[49m\u001b[43m=\u001b[49m\u001b[38;5;28;43;01mFalse\u001b[39;49;00m\u001b[43m,\u001b[49m\n\u001b[32m     73\u001b[39m \u001b[43m            \u001b[49m\u001b[43mtime_start\u001b[49m\u001b[43m=\u001b[49m\u001b[38;5;28;43;01mNone\u001b[39;49;00m\u001b[43m,\u001b[49m\n\u001b[32m     74\u001b[39m \u001b[43m            \u001b[49m\u001b[43mprogress_bar\u001b[49m\u001b[43m=\u001b[49m\u001b[43mprogress_bar\u001b[49m\u001b[43m,\u001b[49m\n\u001b[32m     75\u001b[39m \u001b[43m        \u001b[49m\u001b[43m)\u001b[49m\n\u001b[32m     76\u001b[39m     \u001b[38;5;28;01melse\u001b[39;00m:\n\u001b[32m     77\u001b[39m         \u001b[38;5;28;01mif\u001b[39;00m n_jobs == -\u001b[32m1\u001b[39m:\n",
      "\u001b[36mFile \u001b[39m\u001b[32m~/miniconda3/envs/TF-ML/lib/python3.11/site-packages/optuna/study/_optimize.py:161\u001b[39m, in \u001b[36m_optimize_sequential\u001b[39m\u001b[34m(study, func, n_trials, timeout, catch, callbacks, gc_after_trial, reseed_sampler_rng, time_start, progress_bar)\u001b[39m\n\u001b[32m    158\u001b[39m         \u001b[38;5;28;01mbreak\u001b[39;00m\n\u001b[32m    160\u001b[39m \u001b[38;5;28;01mtry\u001b[39;00m:\n\u001b[32m--> \u001b[39m\u001b[32m161\u001b[39m     frozen_trial = \u001b[43m_run_trial\u001b[49m\u001b[43m(\u001b[49m\u001b[43mstudy\u001b[49m\u001b[43m,\u001b[49m\u001b[43m \u001b[49m\u001b[43mfunc\u001b[49m\u001b[43m,\u001b[49m\u001b[43m \u001b[49m\u001b[43mcatch\u001b[49m\u001b[43m)\u001b[49m\n\u001b[32m    162\u001b[39m \u001b[38;5;28;01mfinally\u001b[39;00m:\n\u001b[32m    163\u001b[39m     \u001b[38;5;66;03m# The following line mitigates memory problems that can be occurred in some\u001b[39;00m\n\u001b[32m    164\u001b[39m     \u001b[38;5;66;03m# environments (e.g., services that use computing containers such as GitHub Actions).\u001b[39;00m\n\u001b[32m    165\u001b[39m     \u001b[38;5;66;03m# Please refer to the following PR for further details:\u001b[39;00m\n\u001b[32m    166\u001b[39m     \u001b[38;5;66;03m# https://github.com/optuna/optuna/pull/325.\u001b[39;00m\n\u001b[32m    167\u001b[39m     \u001b[38;5;28;01mif\u001b[39;00m gc_after_trial:\n",
      "\u001b[36mFile \u001b[39m\u001b[32m~/miniconda3/envs/TF-ML/lib/python3.11/site-packages/optuna/study/_optimize.py:253\u001b[39m, in \u001b[36m_run_trial\u001b[39m\u001b[34m(study, func, catch)\u001b[39m\n\u001b[32m    246\u001b[39m         \u001b[38;5;28;01massert\u001b[39;00m \u001b[38;5;28;01mFalse\u001b[39;00m, \u001b[33m\"\u001b[39m\u001b[33mShould not reach.\u001b[39m\u001b[33m\"\u001b[39m\n\u001b[32m    248\u001b[39m \u001b[38;5;28;01mif\u001b[39;00m (\n\u001b[32m    249\u001b[39m     frozen_trial.state == TrialState.FAIL\n\u001b[32m    250\u001b[39m     \u001b[38;5;129;01mand\u001b[39;00m func_err \u001b[38;5;129;01mis\u001b[39;00m \u001b[38;5;129;01mnot\u001b[39;00m \u001b[38;5;28;01mNone\u001b[39;00m\n\u001b[32m    251\u001b[39m     \u001b[38;5;129;01mand\u001b[39;00m \u001b[38;5;129;01mnot\u001b[39;00m \u001b[38;5;28misinstance\u001b[39m(func_err, catch)\n\u001b[32m    252\u001b[39m ):\n\u001b[32m--> \u001b[39m\u001b[32m253\u001b[39m     \u001b[38;5;28;01mraise\u001b[39;00m func_err\n\u001b[32m    254\u001b[39m \u001b[38;5;28;01mreturn\u001b[39;00m frozen_trial\n",
      "\u001b[36mFile \u001b[39m\u001b[32m~/miniconda3/envs/TF-ML/lib/python3.11/site-packages/optuna/study/_optimize.py:201\u001b[39m, in \u001b[36m_run_trial\u001b[39m\u001b[34m(study, func, catch)\u001b[39m\n\u001b[32m    199\u001b[39m \u001b[38;5;28;01mwith\u001b[39;00m get_heartbeat_thread(trial._trial_id, study._storage):\n\u001b[32m    200\u001b[39m     \u001b[38;5;28;01mtry\u001b[39;00m:\n\u001b[32m--> \u001b[39m\u001b[32m201\u001b[39m         value_or_values = \u001b[43mfunc\u001b[49m\u001b[43m(\u001b[49m\u001b[43mtrial\u001b[49m\u001b[43m)\u001b[49m\n\u001b[32m    202\u001b[39m     \u001b[38;5;28;01mexcept\u001b[39;00m exceptions.TrialPruned \u001b[38;5;28;01mas\u001b[39;00m e:\n\u001b[32m    203\u001b[39m         \u001b[38;5;66;03m# TODO(mamu): Handle multi-objective cases.\u001b[39;00m\n\u001b[32m    204\u001b[39m         state = TrialState.PRUNED\n",
      "\u001b[36mCell\u001b[39m\u001b[36m \u001b[39m\u001b[32mIn[9]\u001b[39m\u001b[32m, line 19\u001b[39m, in \u001b[36mobjective\u001b[39m\u001b[34m(trial)\u001b[39m\n\u001b[32m     16\u001b[39m dataModule = LitPriceData(X_train, y_train, X_val, y_val)\n\u001b[32m     18\u001b[39m trainer = L.Trainer(max_epochs=\u001b[32m75\u001b[39m, accelerator=\u001b[33m\"\u001b[39m\u001b[33mauto\u001b[39m\u001b[33m\"\u001b[39m, logger=logger, enable_progress_bar=\u001b[38;5;28;01mFalse\u001b[39;00m, enable_model_summary=\u001b[38;5;28;01mFalse\u001b[39;00m, enable_checkpointing=\u001b[38;5;28;01mFalse\u001b[39;00m, log_every_n_steps=\u001b[32m2\u001b[39m)\n\u001b[32m---> \u001b[39m\u001b[32m19\u001b[39m \u001b[43mtrainer\u001b[49m\u001b[43m.\u001b[49m\u001b[43mfit\u001b[49m\u001b[43m(\u001b[49m\u001b[43mmodel\u001b[49m\u001b[43m=\u001b[49m\u001b[43mmodel\u001b[49m\u001b[43m,\u001b[49m\u001b[43m \u001b[49m\u001b[43mdatamodule\u001b[49m\u001b[43m=\u001b[49m\u001b[43mdataModule\u001b[49m\u001b[43m)\u001b[49m\n\u001b[32m     21\u001b[39m \u001b[38;5;28;01mreturn\u001b[39;00m trainer.callback_metrics[\u001b[33m\"\u001b[39m\u001b[33mval_loss\u001b[39m\u001b[33m\"\u001b[39m].item()\n",
      "\u001b[36mFile \u001b[39m\u001b[32m~/miniconda3/envs/TF-ML/lib/python3.11/site-packages/lightning/pytorch/trainer/trainer.py:561\u001b[39m, in \u001b[36mTrainer.fit\u001b[39m\u001b[34m(self, model, train_dataloaders, val_dataloaders, datamodule, ckpt_path)\u001b[39m\n\u001b[32m    559\u001b[39m \u001b[38;5;28mself\u001b[39m.training = \u001b[38;5;28;01mTrue\u001b[39;00m\n\u001b[32m    560\u001b[39m \u001b[38;5;28mself\u001b[39m.should_stop = \u001b[38;5;28;01mFalse\u001b[39;00m\n\u001b[32m--> \u001b[39m\u001b[32m561\u001b[39m \u001b[43mcall\u001b[49m\u001b[43m.\u001b[49m\u001b[43m_call_and_handle_interrupt\u001b[49m\u001b[43m(\u001b[49m\n\u001b[32m    562\u001b[39m \u001b[43m    \u001b[49m\u001b[38;5;28;43mself\u001b[39;49m\u001b[43m,\u001b[49m\u001b[43m \u001b[49m\u001b[38;5;28;43mself\u001b[39;49m\u001b[43m.\u001b[49m\u001b[43m_fit_impl\u001b[49m\u001b[43m,\u001b[49m\u001b[43m \u001b[49m\u001b[43mmodel\u001b[49m\u001b[43m,\u001b[49m\u001b[43m \u001b[49m\u001b[43mtrain_dataloaders\u001b[49m\u001b[43m,\u001b[49m\u001b[43m \u001b[49m\u001b[43mval_dataloaders\u001b[49m\u001b[43m,\u001b[49m\u001b[43m \u001b[49m\u001b[43mdatamodule\u001b[49m\u001b[43m,\u001b[49m\u001b[43m \u001b[49m\u001b[43mckpt_path\u001b[49m\n\u001b[32m    563\u001b[39m \u001b[43m\u001b[49m\u001b[43m)\u001b[49m\n",
      "\u001b[36mFile \u001b[39m\u001b[32m~/miniconda3/envs/TF-ML/lib/python3.11/site-packages/lightning/pytorch/trainer/call.py:65\u001b[39m, in \u001b[36m_call_and_handle_interrupt\u001b[39m\u001b[34m(trainer, trainer_fn, *args, **kwargs)\u001b[39m\n\u001b[32m     63\u001b[39m     \u001b[38;5;28;01mif\u001b[39;00m \u001b[38;5;28misinstance\u001b[39m(launcher, _SubprocessScriptLauncher):\n\u001b[32m     64\u001b[39m         launcher.kill(_get_sigkill_signal())\n\u001b[32m---> \u001b[39m\u001b[32m65\u001b[39m     \u001b[43mexit\u001b[49m(\u001b[32m1\u001b[39m)\n\u001b[32m     67\u001b[39m \u001b[38;5;28;01mexcept\u001b[39;00m \u001b[38;5;167;01mBaseException\u001b[39;00m \u001b[38;5;28;01mas\u001b[39;00m exception:\n\u001b[32m     68\u001b[39m     _interrupt(trainer, exception)\n",
      "\u001b[31mNameError\u001b[39m: name 'exit' is not defined"
     ]
    }
   ],
   "source": [
    "study = optuna.create_study(direction=\"minimize\")\n",
    "study.optimize(objective, n_trials=200, n_jobs=2)\n",
    "\n",
    "print(\"Best trial:\")\n",
    "print(study.best_params)"
   ]
  },
  {
   "cell_type": "code",
   "execution_count": null,
   "id": "f8d08fe6",
   "metadata": {},
   "outputs": [
    {
     "data": {
      "text/plain": [
       "{'hidden_size': 76,\n",
       " 'num_layers': 2,\n",
       " 'lr': 0.005094100053762949,\n",
       " 'dropout': 0.4197932446614159,\n",
       " 'sequence_legth': 12}"
      ]
     },
     "execution_count": 6,
     "metadata": {},
     "output_type": "execute_result"
    }
   ],
   "source": [
    "best_params = study.best_params\n",
    "best_params"
   ]
  },
  {
   "cell_type": "code",
   "execution_count": null,
   "id": "4604ec20",
   "metadata": {},
   "outputs": [
    {
     "data": {
      "application/vnd.plotly.v1+json": {
       "config": {
        "plotlyServerURL": "https://plot.ly"
       },
       "data": [
        {
         "mode": "markers",
         "name": "Objective Value",
         "type": "scatter",
         "x": [
          0,
          1,
          2,
          3,
          4,
          5,
          6,
          7,
          8,
          9,
          10,
          11,
          12,
          13,
          14,
          15,
          16,
          17,
          18,
          19,
          20,
          21,
          22,
          23,
          24,
          25,
          26,
          27,
          28,
          29,
          30,
          31,
          32,
          33,
          34,
          35,
          36,
          37,
          38,
          39,
          40,
          41,
          42,
          43,
          44,
          45,
          46,
          47,
          48,
          49,
          50,
          51,
          52,
          53,
          54,
          55,
          56,
          57,
          58,
          59,
          60,
          61,
          62,
          63,
          64,
          65,
          66,
          67,
          68,
          69,
          70,
          71,
          72,
          73,
          74,
          75,
          76,
          77,
          78,
          79,
          80,
          81,
          82,
          83,
          84,
          85,
          86,
          87,
          88,
          89,
          90,
          91,
          92,
          93,
          94,
          95,
          96,
          97,
          98,
          99,
          100,
          101,
          102,
          103,
          104,
          105,
          106,
          107,
          108,
          109,
          110,
          111,
          112,
          113,
          114,
          115,
          116,
          117,
          118,
          119,
          120,
          121,
          122,
          123,
          124,
          125,
          126,
          127,
          128,
          129,
          130,
          131,
          132,
          133,
          134,
          135,
          136,
          137,
          138,
          139,
          140,
          141,
          142,
          143,
          144,
          145,
          146,
          147,
          148,
          149,
          150,
          151,
          152,
          153,
          154,
          155,
          156,
          157,
          158,
          159,
          160,
          161,
          162,
          163,
          164,
          165,
          166,
          167,
          168,
          169,
          170,
          171,
          172,
          173,
          174,
          175,
          176,
          177,
          178,
          179,
          180,
          181,
          182,
          183,
          184,
          185,
          186,
          187,
          188,
          189,
          190,
          191,
          192,
          193,
          194,
          195,
          196,
          197,
          198,
          199
         ],
         "y": [
          0.0093349264934659,
          0.009198351763188839,
          0.01042319554835558,
          0.011399786919355392,
          0.018446609377861023,
          0.011675090529024601,
          0.015735376626253128,
          0.010008466430008411,
          0.011681132018566132,
          0.011610456742346287,
          0.02697497233748436,
          0.009812399744987488,
          0.008556279353797436,
          0.011460713110864162,
          0.013618173077702522,
          0.010146760381758213,
          0.008371425792574883,
          0.012444374151527882,
          0.012443624436855316,
          0.009186151437461376,
          0.009961023926734924,
          0.008970225229859352,
          0.010130168870091438,
          0.009328188374638557,
          0.009503641165792942,
          0.015223124995827675,
          0.0089509766548872,
          0.009594332426786423,
          0.01111068669706583,
          0.008686083368957043,
          0.009415711276233196,
          0.00932841096073389,
          0.00956210307776928,
          0.009268401190638542,
          0.010394646786153316,
          0.011096904054284096,
          0.01815710961818695,
          0.011809993535280228,
          0.00913176592439413,
          0.009434814564883709,
          0.01537179946899414,
          0.009621492587029934,
          0.009134639985859394,
          0.010664672590792179,
          0.010475034825503826,
          0.00882171280682087,
          0.00979404803365469,
          0.00887144822627306,
          0.014695665799081326,
          0.017929144203662872,
          0.00939963385462761,
          0.009185995906591415,
          0.015460826456546783,
          0.009044328704476357,
          0.009471738710999489,
          0.009152790531516075,
          0.009572958573698997,
          0.008561475202441216,
          0.009516141377389431,
          0.008581260219216347,
          0.010060993954539299,
          0.009029243141412735,
          0.010197739116847515,
          0.00956457108259201,
          0.008891637437045574,
          0.009863650426268578,
          0.012625248171389103,
          0.011537307873368263,
          0.01287700142711401,
          0.011699525639414787,
          0.008615048602223396,
          0.010220857337117195,
          0.009178883396089077,
          0.009255260229110718,
          0.008457661606371403,
          0.010218548588454723,
          0.008969493210315704,
          0.008755791001021862,
          0.011885820887982845,
          0.008379095233976841,
          0.009478621184825897,
          0.008556199260056019,
          0.00952085480093956,
          0.0094620231539011,
          0.00908462330698967,
          0.00961876567453146,
          0.009034816175699234,
          0.010826170444488525,
          0.012230457738041878,
          0.010971693322062492,
          0.00889075268059969,
          0.008848169818520546,
          0.009305601939558983,
          0.009361839853227139,
          0.009345216676592827,
          0.008698837831616402,
          0.008799114264547825,
          0.008551688864827156,
          0.009660075418651104,
          0.009365802630782127,
          0.0093581797555089,
          0.008633221499621868,
          0.008837149478495121,
          0.008966075256466866,
          0.00873616710305214,
          0.008826185949146748,
          0.009756268002092838,
          0.009060845710337162,
          0.009760864078998566,
          0.0092498529702425,
          0.00916841346770525,
          0.009647331200540066,
          0.01024575438350439,
          0.009016298688948154,
          0.009346405044198036,
          0.00938387494534254,
          0.013299329206347466,
          0.01198330707848072,
          0.009236689656972885,
          0.010082562454044819,
          0.008841064758598804,
          0.008811458013951778,
          0.009275523014366627,
          0.00901316199451685,
          0.009191892109811306,
          0.008615469560027122,
          0.008869007229804993,
          0.009184151887893677,
          0.008859612047672272,
          0.00929189007729292,
          0.020352136343717575,
          0.008529196493327618,
          0.00899529829621315,
          0.0086841294541955,
          0.009235678240656853,
          0.009015889838337898,
          0.008460627868771553,
          0.009055781178176403,
          0.009710798971354961,
          0.008944639936089516,
          0.008589426055550575,
          0.010792928747832775,
          0.008976049721240997,
          0.01234372053295374,
          0.00896458700299263,
          0.008778342045843601,
          0.008820736780762672,
          0.009055194444954395,
          0.009644712321460247,
          0.009672519750893116,
          0.0097651407122612,
          0.009173537604510784,
          0.009567615576088428,
          0.008733922615647316,
          0.009029771201312542,
          0.009364435449242592,
          0.008651371113955975,
          0.009661491960287094,
          0.008812219835817814,
          0.013777907006442547,
          0.008571285754442215,
          0.0092442212626338,
          0.008756845258176327,
          0.009670546278357506,
          0.008449239656329155,
          0.009290149435400963,
          0.008188284933567047,
          0.008712994866073132,
          0.009128306061029434,
          0.011401346884667873,
          0.009482312016189098,
          0.01336717326194048,
          0.008956319652497768,
          0.008793288841843605,
          0.00919931847602129,
          0.01019132137298584,
          0.009775590151548386,
          0.008730346336960793,
          0.0116804214194417,
          0.00914719421416521,
          0.009206168353557587,
          0.00981894601136446,
          0.008718900382518768,
          0.00913846306502819,
          0.008648036979138851,
          0.008968442678451538,
          0.008744307793676853,
          0.00930727832019329,
          0.008969668298959732,
          0.010748655535280704,
          0.008988440036773682,
          0.0087836142629385,
          0.00913933664560318,
          0.00959093403071165,
          0.010304488241672516,
          0.008993787690997124,
          0.010127645917236805,
          0.009709215722978115,
          0.009032947942614555,
          0.009465394541621208
         ]
        },
        {
         "mode": "lines",
         "name": "Best Value",
         "type": "scatter",
         "x": [
          0,
          1,
          2,
          3,
          4,
          5,
          6,
          7,
          8,
          9,
          10,
          11,
          12,
          13,
          14,
          15,
          16,
          17,
          18,
          19,
          20,
          21,
          22,
          23,
          24,
          25,
          26,
          27,
          28,
          29,
          30,
          31,
          32,
          33,
          34,
          35,
          36,
          37,
          38,
          39,
          40,
          41,
          42,
          43,
          44,
          45,
          46,
          47,
          48,
          49,
          50,
          51,
          52,
          53,
          54,
          55,
          56,
          57,
          58,
          59,
          60,
          61,
          62,
          63,
          64,
          65,
          66,
          67,
          68,
          69,
          70,
          71,
          72,
          73,
          74,
          75,
          76,
          77,
          78,
          79,
          80,
          81,
          82,
          83,
          84,
          85,
          86,
          87,
          88,
          89,
          90,
          91,
          92,
          93,
          94,
          95,
          96,
          97,
          98,
          99,
          100,
          101,
          102,
          103,
          104,
          105,
          106,
          107,
          108,
          109,
          110,
          111,
          112,
          113,
          114,
          115,
          116,
          117,
          118,
          119,
          120,
          121,
          122,
          123,
          124,
          125,
          126,
          127,
          128,
          129,
          130,
          131,
          132,
          133,
          134,
          135,
          136,
          137,
          138,
          139,
          140,
          141,
          142,
          143,
          144,
          145,
          146,
          147,
          148,
          149,
          150,
          151,
          152,
          153,
          154,
          155,
          156,
          157,
          158,
          159,
          160,
          161,
          162,
          163,
          164,
          165,
          166,
          167,
          168,
          169,
          170,
          171,
          172,
          173,
          174,
          175,
          176,
          177,
          178,
          179,
          180,
          181,
          182,
          183,
          184,
          185,
          186,
          187,
          188,
          189,
          190,
          191,
          192,
          193,
          194,
          195,
          196,
          197,
          198,
          199
         ],
         "y": [
          0.0093349264934659,
          0.009198351763188839,
          0.009198351763188839,
          0.009198351763188839,
          0.009198351763188839,
          0.009198351763188839,
          0.009198351763188839,
          0.009198351763188839,
          0.009198351763188839,
          0.009198351763188839,
          0.009198351763188839,
          0.009198351763188839,
          0.008556279353797436,
          0.008556279353797436,
          0.008556279353797436,
          0.008556279353797436,
          0.008371425792574883,
          0.008371425792574883,
          0.008371425792574883,
          0.008371425792574883,
          0.008371425792574883,
          0.008371425792574883,
          0.008371425792574883,
          0.008371425792574883,
          0.008371425792574883,
          0.008371425792574883,
          0.008371425792574883,
          0.008371425792574883,
          0.008371425792574883,
          0.008371425792574883,
          0.008371425792574883,
          0.008371425792574883,
          0.008371425792574883,
          0.008371425792574883,
          0.008371425792574883,
          0.008371425792574883,
          0.008371425792574883,
          0.008371425792574883,
          0.008371425792574883,
          0.008371425792574883,
          0.008371425792574883,
          0.008371425792574883,
          0.008371425792574883,
          0.008371425792574883,
          0.008371425792574883,
          0.008371425792574883,
          0.008371425792574883,
          0.008371425792574883,
          0.008371425792574883,
          0.008371425792574883,
          0.008371425792574883,
          0.008371425792574883,
          0.008371425792574883,
          0.008371425792574883,
          0.008371425792574883,
          0.008371425792574883,
          0.008371425792574883,
          0.008371425792574883,
          0.008371425792574883,
          0.008371425792574883,
          0.008371425792574883,
          0.008371425792574883,
          0.008371425792574883,
          0.008371425792574883,
          0.008371425792574883,
          0.008371425792574883,
          0.008371425792574883,
          0.008371425792574883,
          0.008371425792574883,
          0.008371425792574883,
          0.008371425792574883,
          0.008371425792574883,
          0.008371425792574883,
          0.008371425792574883,
          0.008371425792574883,
          0.008371425792574883,
          0.008371425792574883,
          0.008371425792574883,
          0.008371425792574883,
          0.008371425792574883,
          0.008371425792574883,
          0.008371425792574883,
          0.008371425792574883,
          0.008371425792574883,
          0.008371425792574883,
          0.008371425792574883,
          0.008371425792574883,
          0.008371425792574883,
          0.008371425792574883,
          0.008371425792574883,
          0.008371425792574883,
          0.008371425792574883,
          0.008371425792574883,
          0.008371425792574883,
          0.008371425792574883,
          0.008371425792574883,
          0.008371425792574883,
          0.008371425792574883,
          0.008371425792574883,
          0.008371425792574883,
          0.008371425792574883,
          0.008371425792574883,
          0.008371425792574883,
          0.008371425792574883,
          0.008371425792574883,
          0.008371425792574883,
          0.008371425792574883,
          0.008371425792574883,
          0.008371425792574883,
          0.008371425792574883,
          0.008371425792574883,
          0.008371425792574883,
          0.008371425792574883,
          0.008371425792574883,
          0.008371425792574883,
          0.008371425792574883,
          0.008371425792574883,
          0.008371425792574883,
          0.008371425792574883,
          0.008371425792574883,
          0.008371425792574883,
          0.008371425792574883,
          0.008371425792574883,
          0.008371425792574883,
          0.008371425792574883,
          0.008371425792574883,
          0.008371425792574883,
          0.008371425792574883,
          0.008371425792574883,
          0.008371425792574883,
          0.008371425792574883,
          0.008371425792574883,
          0.008371425792574883,
          0.008371425792574883,
          0.008371425792574883,
          0.008371425792574883,
          0.008371425792574883,
          0.008371425792574883,
          0.008371425792574883,
          0.008371425792574883,
          0.008371425792574883,
          0.008371425792574883,
          0.008371425792574883,
          0.008371425792574883,
          0.008371425792574883,
          0.008371425792574883,
          0.008371425792574883,
          0.008371425792574883,
          0.008371425792574883,
          0.008371425792574883,
          0.008371425792574883,
          0.008371425792574883,
          0.008371425792574883,
          0.008371425792574883,
          0.008371425792574883,
          0.008371425792574883,
          0.008371425792574883,
          0.008371425792574883,
          0.008371425792574883,
          0.008371425792574883,
          0.008371425792574883,
          0.008371425792574883,
          0.008371425792574883,
          0.008371425792574883,
          0.008371425792574883,
          0.008371425792574883,
          0.008188284933567047,
          0.008188284933567047,
          0.008188284933567047,
          0.008188284933567047,
          0.008188284933567047,
          0.008188284933567047,
          0.008188284933567047,
          0.008188284933567047,
          0.008188284933567047,
          0.008188284933567047,
          0.008188284933567047,
          0.008188284933567047,
          0.008188284933567047,
          0.008188284933567047,
          0.008188284933567047,
          0.008188284933567047,
          0.008188284933567047,
          0.008188284933567047,
          0.008188284933567047,
          0.008188284933567047,
          0.008188284933567047,
          0.008188284933567047,
          0.008188284933567047,
          0.008188284933567047,
          0.008188284933567047,
          0.008188284933567047,
          0.008188284933567047,
          0.008188284933567047,
          0.008188284933567047,
          0.008188284933567047,
          0.008188284933567047,
          0.008188284933567047,
          0.008188284933567047,
          0.008188284933567047
         ]
        },
        {
         "marker": {
          "color": "#cccccc"
         },
         "mode": "markers",
         "name": "Infeasible Trial",
         "showlegend": false,
         "type": "scatter",
         "x": [],
         "y": []
        }
       ],
       "layout": {
        "template": {
         "data": {
          "bar": [
           {
            "error_x": {
             "color": "#2a3f5f"
            },
            "error_y": {
             "color": "#2a3f5f"
            },
            "marker": {
             "line": {
              "color": "#E5ECF6",
              "width": 0.5
             },
             "pattern": {
              "fillmode": "overlay",
              "size": 10,
              "solidity": 0.2
             }
            },
            "type": "bar"
           }
          ],
          "barpolar": [
           {
            "marker": {
             "line": {
              "color": "#E5ECF6",
              "width": 0.5
             },
             "pattern": {
              "fillmode": "overlay",
              "size": 10,
              "solidity": 0.2
             }
            },
            "type": "barpolar"
           }
          ],
          "carpet": [
           {
            "aaxis": {
             "endlinecolor": "#2a3f5f",
             "gridcolor": "white",
             "linecolor": "white",
             "minorgridcolor": "white",
             "startlinecolor": "#2a3f5f"
            },
            "baxis": {
             "endlinecolor": "#2a3f5f",
             "gridcolor": "white",
             "linecolor": "white",
             "minorgridcolor": "white",
             "startlinecolor": "#2a3f5f"
            },
            "type": "carpet"
           }
          ],
          "choropleth": [
           {
            "colorbar": {
             "outlinewidth": 0,
             "ticks": ""
            },
            "type": "choropleth"
           }
          ],
          "contour": [
           {
            "colorbar": {
             "outlinewidth": 0,
             "ticks": ""
            },
            "colorscale": [
             [
              0,
              "#0d0887"
             ],
             [
              0.1111111111111111,
              "#46039f"
             ],
             [
              0.2222222222222222,
              "#7201a8"
             ],
             [
              0.3333333333333333,
              "#9c179e"
             ],
             [
              0.4444444444444444,
              "#bd3786"
             ],
             [
              0.5555555555555556,
              "#d8576b"
             ],
             [
              0.6666666666666666,
              "#ed7953"
             ],
             [
              0.7777777777777778,
              "#fb9f3a"
             ],
             [
              0.8888888888888888,
              "#fdca26"
             ],
             [
              1,
              "#f0f921"
             ]
            ],
            "type": "contour"
           }
          ],
          "contourcarpet": [
           {
            "colorbar": {
             "outlinewidth": 0,
             "ticks": ""
            },
            "type": "contourcarpet"
           }
          ],
          "heatmap": [
           {
            "colorbar": {
             "outlinewidth": 0,
             "ticks": ""
            },
            "colorscale": [
             [
              0,
              "#0d0887"
             ],
             [
              0.1111111111111111,
              "#46039f"
             ],
             [
              0.2222222222222222,
              "#7201a8"
             ],
             [
              0.3333333333333333,
              "#9c179e"
             ],
             [
              0.4444444444444444,
              "#bd3786"
             ],
             [
              0.5555555555555556,
              "#d8576b"
             ],
             [
              0.6666666666666666,
              "#ed7953"
             ],
             [
              0.7777777777777778,
              "#fb9f3a"
             ],
             [
              0.8888888888888888,
              "#fdca26"
             ],
             [
              1,
              "#f0f921"
             ]
            ],
            "type": "heatmap"
           }
          ],
          "histogram": [
           {
            "marker": {
             "pattern": {
              "fillmode": "overlay",
              "size": 10,
              "solidity": 0.2
             }
            },
            "type": "histogram"
           }
          ],
          "histogram2d": [
           {
            "colorbar": {
             "outlinewidth": 0,
             "ticks": ""
            },
            "colorscale": [
             [
              0,
              "#0d0887"
             ],
             [
              0.1111111111111111,
              "#46039f"
             ],
             [
              0.2222222222222222,
              "#7201a8"
             ],
             [
              0.3333333333333333,
              "#9c179e"
             ],
             [
              0.4444444444444444,
              "#bd3786"
             ],
             [
              0.5555555555555556,
              "#d8576b"
             ],
             [
              0.6666666666666666,
              "#ed7953"
             ],
             [
              0.7777777777777778,
              "#fb9f3a"
             ],
             [
              0.8888888888888888,
              "#fdca26"
             ],
             [
              1,
              "#f0f921"
             ]
            ],
            "type": "histogram2d"
           }
          ],
          "histogram2dcontour": [
           {
            "colorbar": {
             "outlinewidth": 0,
             "ticks": ""
            },
            "colorscale": [
             [
              0,
              "#0d0887"
             ],
             [
              0.1111111111111111,
              "#46039f"
             ],
             [
              0.2222222222222222,
              "#7201a8"
             ],
             [
              0.3333333333333333,
              "#9c179e"
             ],
             [
              0.4444444444444444,
              "#bd3786"
             ],
             [
              0.5555555555555556,
              "#d8576b"
             ],
             [
              0.6666666666666666,
              "#ed7953"
             ],
             [
              0.7777777777777778,
              "#fb9f3a"
             ],
             [
              0.8888888888888888,
              "#fdca26"
             ],
             [
              1,
              "#f0f921"
             ]
            ],
            "type": "histogram2dcontour"
           }
          ],
          "mesh3d": [
           {
            "colorbar": {
             "outlinewidth": 0,
             "ticks": ""
            },
            "type": "mesh3d"
           }
          ],
          "parcoords": [
           {
            "line": {
             "colorbar": {
              "outlinewidth": 0,
              "ticks": ""
             }
            },
            "type": "parcoords"
           }
          ],
          "pie": [
           {
            "automargin": true,
            "type": "pie"
           }
          ],
          "scatter": [
           {
            "fillpattern": {
             "fillmode": "overlay",
             "size": 10,
             "solidity": 0.2
            },
            "type": "scatter"
           }
          ],
          "scatter3d": [
           {
            "line": {
             "colorbar": {
              "outlinewidth": 0,
              "ticks": ""
             }
            },
            "marker": {
             "colorbar": {
              "outlinewidth": 0,
              "ticks": ""
             }
            },
            "type": "scatter3d"
           }
          ],
          "scattercarpet": [
           {
            "marker": {
             "colorbar": {
              "outlinewidth": 0,
              "ticks": ""
             }
            },
            "type": "scattercarpet"
           }
          ],
          "scattergeo": [
           {
            "marker": {
             "colorbar": {
              "outlinewidth": 0,
              "ticks": ""
             }
            },
            "type": "scattergeo"
           }
          ],
          "scattergl": [
           {
            "marker": {
             "colorbar": {
              "outlinewidth": 0,
              "ticks": ""
             }
            },
            "type": "scattergl"
           }
          ],
          "scattermap": [
           {
            "marker": {
             "colorbar": {
              "outlinewidth": 0,
              "ticks": ""
             }
            },
            "type": "scattermap"
           }
          ],
          "scattermapbox": [
           {
            "marker": {
             "colorbar": {
              "outlinewidth": 0,
              "ticks": ""
             }
            },
            "type": "scattermapbox"
           }
          ],
          "scatterpolar": [
           {
            "marker": {
             "colorbar": {
              "outlinewidth": 0,
              "ticks": ""
             }
            },
            "type": "scatterpolar"
           }
          ],
          "scatterpolargl": [
           {
            "marker": {
             "colorbar": {
              "outlinewidth": 0,
              "ticks": ""
             }
            },
            "type": "scatterpolargl"
           }
          ],
          "scatterternary": [
           {
            "marker": {
             "colorbar": {
              "outlinewidth": 0,
              "ticks": ""
             }
            },
            "type": "scatterternary"
           }
          ],
          "surface": [
           {
            "colorbar": {
             "outlinewidth": 0,
             "ticks": ""
            },
            "colorscale": [
             [
              0,
              "#0d0887"
             ],
             [
              0.1111111111111111,
              "#46039f"
             ],
             [
              0.2222222222222222,
              "#7201a8"
             ],
             [
              0.3333333333333333,
              "#9c179e"
             ],
             [
              0.4444444444444444,
              "#bd3786"
             ],
             [
              0.5555555555555556,
              "#d8576b"
             ],
             [
              0.6666666666666666,
              "#ed7953"
             ],
             [
              0.7777777777777778,
              "#fb9f3a"
             ],
             [
              0.8888888888888888,
              "#fdca26"
             ],
             [
              1,
              "#f0f921"
             ]
            ],
            "type": "surface"
           }
          ],
          "table": [
           {
            "cells": {
             "fill": {
              "color": "#EBF0F8"
             },
             "line": {
              "color": "white"
             }
            },
            "header": {
             "fill": {
              "color": "#C8D4E3"
             },
             "line": {
              "color": "white"
             }
            },
            "type": "table"
           }
          ]
         },
         "layout": {
          "annotationdefaults": {
           "arrowcolor": "#2a3f5f",
           "arrowhead": 0,
           "arrowwidth": 1
          },
          "autotypenumbers": "strict",
          "coloraxis": {
           "colorbar": {
            "outlinewidth": 0,
            "ticks": ""
           }
          },
          "colorscale": {
           "diverging": [
            [
             0,
             "#8e0152"
            ],
            [
             0.1,
             "#c51b7d"
            ],
            [
             0.2,
             "#de77ae"
            ],
            [
             0.3,
             "#f1b6da"
            ],
            [
             0.4,
             "#fde0ef"
            ],
            [
             0.5,
             "#f7f7f7"
            ],
            [
             0.6,
             "#e6f5d0"
            ],
            [
             0.7,
             "#b8e186"
            ],
            [
             0.8,
             "#7fbc41"
            ],
            [
             0.9,
             "#4d9221"
            ],
            [
             1,
             "#276419"
            ]
           ],
           "sequential": [
            [
             0,
             "#0d0887"
            ],
            [
             0.1111111111111111,
             "#46039f"
            ],
            [
             0.2222222222222222,
             "#7201a8"
            ],
            [
             0.3333333333333333,
             "#9c179e"
            ],
            [
             0.4444444444444444,
             "#bd3786"
            ],
            [
             0.5555555555555556,
             "#d8576b"
            ],
            [
             0.6666666666666666,
             "#ed7953"
            ],
            [
             0.7777777777777778,
             "#fb9f3a"
            ],
            [
             0.8888888888888888,
             "#fdca26"
            ],
            [
             1,
             "#f0f921"
            ]
           ],
           "sequentialminus": [
            [
             0,
             "#0d0887"
            ],
            [
             0.1111111111111111,
             "#46039f"
            ],
            [
             0.2222222222222222,
             "#7201a8"
            ],
            [
             0.3333333333333333,
             "#9c179e"
            ],
            [
             0.4444444444444444,
             "#bd3786"
            ],
            [
             0.5555555555555556,
             "#d8576b"
            ],
            [
             0.6666666666666666,
             "#ed7953"
            ],
            [
             0.7777777777777778,
             "#fb9f3a"
            ],
            [
             0.8888888888888888,
             "#fdca26"
            ],
            [
             1,
             "#f0f921"
            ]
           ]
          },
          "colorway": [
           "#636efa",
           "#EF553B",
           "#00cc96",
           "#ab63fa",
           "#FFA15A",
           "#19d3f3",
           "#FF6692",
           "#B6E880",
           "#FF97FF",
           "#FECB52"
          ],
          "font": {
           "color": "#2a3f5f"
          },
          "geo": {
           "bgcolor": "white",
           "lakecolor": "white",
           "landcolor": "#E5ECF6",
           "showlakes": true,
           "showland": true,
           "subunitcolor": "white"
          },
          "hoverlabel": {
           "align": "left"
          },
          "hovermode": "closest",
          "mapbox": {
           "style": "light"
          },
          "paper_bgcolor": "white",
          "plot_bgcolor": "#E5ECF6",
          "polar": {
           "angularaxis": {
            "gridcolor": "white",
            "linecolor": "white",
            "ticks": ""
           },
           "bgcolor": "#E5ECF6",
           "radialaxis": {
            "gridcolor": "white",
            "linecolor": "white",
            "ticks": ""
           }
          },
          "scene": {
           "xaxis": {
            "backgroundcolor": "#E5ECF6",
            "gridcolor": "white",
            "gridwidth": 2,
            "linecolor": "white",
            "showbackground": true,
            "ticks": "",
            "zerolinecolor": "white"
           },
           "yaxis": {
            "backgroundcolor": "#E5ECF6",
            "gridcolor": "white",
            "gridwidth": 2,
            "linecolor": "white",
            "showbackground": true,
            "ticks": "",
            "zerolinecolor": "white"
           },
           "zaxis": {
            "backgroundcolor": "#E5ECF6",
            "gridcolor": "white",
            "gridwidth": 2,
            "linecolor": "white",
            "showbackground": true,
            "ticks": "",
            "zerolinecolor": "white"
           }
          },
          "shapedefaults": {
           "line": {
            "color": "#2a3f5f"
           }
          },
          "ternary": {
           "aaxis": {
            "gridcolor": "white",
            "linecolor": "white",
            "ticks": ""
           },
           "baxis": {
            "gridcolor": "white",
            "linecolor": "white",
            "ticks": ""
           },
           "bgcolor": "#E5ECF6",
           "caxis": {
            "gridcolor": "white",
            "linecolor": "white",
            "ticks": ""
           }
          },
          "title": {
           "x": 0.05
          },
          "xaxis": {
           "automargin": true,
           "gridcolor": "white",
           "linecolor": "white",
           "ticks": "",
           "title": {
            "standoff": 15
           },
           "zerolinecolor": "white",
           "zerolinewidth": 2
          },
          "yaxis": {
           "automargin": true,
           "gridcolor": "white",
           "linecolor": "white",
           "ticks": "",
           "title": {
            "standoff": 15
           },
           "zerolinecolor": "white",
           "zerolinewidth": 2
          }
         }
        },
        "title": {
         "text": "Optimization History Plot"
        },
        "xaxis": {
         "title": {
          "text": "Trial"
         }
        },
        "yaxis": {
         "title": {
          "text": "Objective Value"
         }
        }
       }
      }
     },
     "metadata": {},
     "output_type": "display_data"
    }
   ],
   "source": [
    "optuna.visualization.plot_optimization_history(study)"
   ]
  },
  {
   "cell_type": "code",
   "execution_count": null,
   "id": "c1f648fd",
   "metadata": {},
   "outputs": [
    {
     "data": {
      "application/vnd.plotly.v1+json": {
       "config": {
        "plotlyServerURL": "https://plot.ly"
       },
       "data": [
        {
         "dimensions": [
          {
           "label": "Objective Value",
           "range": [
            0.008188284933567047,
            0.02697497233748436
           ],
           "values": [
            0.0093349264934659,
            0.009198351763188839,
            0.01042319554835558,
            0.011399786919355392,
            0.018446609377861023,
            0.011675090529024601,
            0.015735376626253128,
            0.010008466430008411,
            0.011681132018566132,
            0.011610456742346287,
            0.02697497233748436,
            0.009812399744987488,
            0.008556279353797436,
            0.011460713110864162,
            0.013618173077702522,
            0.010146760381758213,
            0.008371425792574883,
            0.012444374151527882,
            0.012443624436855316,
            0.009186151437461376,
            0.009961023926734924,
            0.008970225229859352,
            0.010130168870091438,
            0.009328188374638557,
            0.009503641165792942,
            0.015223124995827675,
            0.0089509766548872,
            0.009594332426786423,
            0.01111068669706583,
            0.008686083368957043,
            0.009415711276233196,
            0.00932841096073389,
            0.00956210307776928,
            0.009268401190638542,
            0.010394646786153316,
            0.011096904054284096,
            0.01815710961818695,
            0.011809993535280228,
            0.00913176592439413,
            0.009434814564883709,
            0.01537179946899414,
            0.009621492587029934,
            0.009134639985859394,
            0.010664672590792179,
            0.010475034825503826,
            0.00882171280682087,
            0.00979404803365469,
            0.00887144822627306,
            0.014695665799081326,
            0.017929144203662872,
            0.00939963385462761,
            0.009185995906591415,
            0.015460826456546783,
            0.009044328704476357,
            0.009471738710999489,
            0.009152790531516075,
            0.009572958573698997,
            0.008561475202441216,
            0.009516141377389431,
            0.008581260219216347,
            0.010060993954539299,
            0.009029243141412735,
            0.010197739116847515,
            0.00956457108259201,
            0.008891637437045574,
            0.009863650426268578,
            0.012625248171389103,
            0.011537307873368263,
            0.01287700142711401,
            0.011699525639414787,
            0.008615048602223396,
            0.010220857337117195,
            0.009178883396089077,
            0.009255260229110718,
            0.008457661606371403,
            0.010218548588454723,
            0.008969493210315704,
            0.008755791001021862,
            0.011885820887982845,
            0.008379095233976841,
            0.009478621184825897,
            0.008556199260056019,
            0.00952085480093956,
            0.0094620231539011,
            0.00908462330698967,
            0.00961876567453146,
            0.009034816175699234,
            0.010826170444488525,
            0.012230457738041878,
            0.010971693322062492,
            0.00889075268059969,
            0.008848169818520546,
            0.009305601939558983,
            0.009361839853227139,
            0.009345216676592827,
            0.008698837831616402,
            0.008799114264547825,
            0.008551688864827156,
            0.009660075418651104,
            0.009365802630782127,
            0.0093581797555089,
            0.008633221499621868,
            0.008837149478495121,
            0.008966075256466866,
            0.00873616710305214,
            0.008826185949146748,
            0.009756268002092838,
            0.009060845710337162,
            0.009760864078998566,
            0.0092498529702425,
            0.00916841346770525,
            0.009647331200540066,
            0.01024575438350439,
            0.009016298688948154,
            0.009346405044198036,
            0.00938387494534254,
            0.013299329206347466,
            0.01198330707848072,
            0.009236689656972885,
            0.010082562454044819,
            0.008841064758598804,
            0.008811458013951778,
            0.009275523014366627,
            0.00901316199451685,
            0.009191892109811306,
            0.008615469560027122,
            0.008869007229804993,
            0.009184151887893677,
            0.008859612047672272,
            0.00929189007729292,
            0.020352136343717575,
            0.008529196493327618,
            0.00899529829621315,
            0.0086841294541955,
            0.009235678240656853,
            0.009015889838337898,
            0.008460627868771553,
            0.009055781178176403,
            0.009710798971354961,
            0.008944639936089516,
            0.008589426055550575,
            0.010792928747832775,
            0.008976049721240997,
            0.01234372053295374,
            0.00896458700299263,
            0.008778342045843601,
            0.008820736780762672,
            0.009055194444954395,
            0.009644712321460247,
            0.009672519750893116,
            0.0097651407122612,
            0.009173537604510784,
            0.009567615576088428,
            0.008733922615647316,
            0.009029771201312542,
            0.009364435449242592,
            0.008651371113955975,
            0.009661491960287094,
            0.008812219835817814,
            0.013777907006442547,
            0.008571285754442215,
            0.0092442212626338,
            0.008756845258176327,
            0.009670546278357506,
            0.008449239656329155,
            0.009290149435400963,
            0.008188284933567047,
            0.008712994866073132,
            0.009128306061029434,
            0.011401346884667873,
            0.009482312016189098,
            0.01336717326194048,
            0.008956319652497768,
            0.008793288841843605,
            0.00919931847602129,
            0.01019132137298584,
            0.009775590151548386,
            0.008730346336960793,
            0.0116804214194417,
            0.00914719421416521,
            0.009206168353557587,
            0.00981894601136446,
            0.008718900382518768,
            0.00913846306502819,
            0.008648036979138851,
            0.008968442678451538,
            0.008744307793676853,
            0.00930727832019329,
            0.008969668298959732,
            0.010748655535280704,
            0.008988440036773682,
            0.0087836142629385,
            0.00913933664560318,
            0.00959093403071165,
            0.010304488241672516,
            0.008993787690997124,
            0.010127645917236805,
            0.009709215722978115,
            0.009032947942614555,
            0.009465394541621208
           ]
          },
          {
           "label": "dropout",
           "range": [
            0.0010243958354313742,
            0.49891230525182123
           ],
           "values": [
            0.09501055920845197,
            0.3792281384701589,
            0.02889581641387623,
            0.2554636337858136,
            0.2503899025085653,
            0.37707372106247816,
            0.42431194809917755,
            0.3962050966171573,
            0.30051042699012903,
            0.2249824225455696,
            0.49103320493008357,
            0.08251426081744444,
            0.12715458554431996,
            0.16374809640326457,
            0.15319954866654462,
            0.3391828723926672,
            0.46248471173188044,
            0.4979175780745121,
            0.18186345406965623,
            0.0016409736741994085,
            0.10183329455889034,
            0.03540589435179131,
            0.0761318004252012,
            0.05298728683512287,
            0.12099997309753882,
            0.002336939595251483,
            0.2045239600177569,
            0.2075940600787288,
            0.2819618710050615,
            0.12902305944221,
            0.12322692132825105,
            0.18853566677720462,
            0.1420983879108522,
            0.2149771168349452,
            0.4635106486687278,
            0.296479215919346,
            0.33825008148149954,
            0.25337561586948837,
            0.11549149728196088,
            0.17942092615122895,
            0.06051738126268501,
            0.0377713669934957,
            0.23531971497503884,
            0.14093753464356246,
            0.08774267505889097,
            0.43489406008202264,
            0.4377152785269529,
            0.3875753556640359,
            0.40814753572912205,
            0.36124772240755787,
            0.4502247527208685,
            0.467572116581799,
            0.41101609966191616,
            0.4805231508207842,
            0.37871961617706584,
            0.4444610518110054,
            0.42735256179869485,
            0.39664854611528366,
            0.3453571261095768,
            0.39121921380823665,
            0.3132253499272172,
            0.39360488781222436,
            0.3591802284589186,
            0.4091134652148764,
            0.39562766010720346,
            0.48192008645516704,
            0.4255205475012934,
            0.45818209079061106,
            0.37303173404770174,
            0.2711745691427083,
            0.3189830729423888,
            0.32304908658861026,
            0.3883032005008102,
            0.43275322240666664,
            0.3650900000892566,
            0.35145473253202014,
            0.32285758587920144,
            0.10463276837711039,
            0.09954041565238296,
            0.16060182145585677,
            0.15085728205953755,
            0.11268810399487564,
            0.0686730815517412,
            0.16818460960553167,
            0.13556079927535558,
            0.13283209976774824,
            0.11982529836045841,
            0.15603459388225452,
            0.19424122744924815,
            0.2880495823151946,
            0.23847271209627846,
            0.1135524205611364,
            0.10671439387747954,
            0.1739961587798592,
            0.08304056809346809,
            0.09409464802381126,
            0.09303729177584585,
            0.044555046616569755,
            0.026817095326025775,
            0.04681830212317356,
            0.3676869588412297,
            0.022545466105229964,
            0.019031922199176175,
            0.018642101979172244,
            0.07102329467149571,
            0.0010243958354313742,
            0.053089850363406244,
            0.2706275488341987,
            0.33220556498097653,
            0.41642807438678814,
            0.1270735397305114,
            0.04122716549534777,
            0.057160584314639336,
            0.08072512527257204,
            0.40439516587225915,
            0.15188168500289634,
            0.38114863855621556,
            0.09336981264512728,
            0.01860435442001407,
            0.13998396580715558,
            0.11552957216272924,
            0.027993003932936855,
            0.0695186845613268,
            0.06788923000644448,
            0.07394330452711789,
            0.10602163401693655,
            0.1287307220933616,
            0.10918308652517346,
            0.49891230525182123,
            0.36024141736658577,
            0.3113316533532803,
            0.08727037878803891,
            0.09704830082578024,
            0.08819175615035206,
            0.14685463234662133,
            0.15971049436644066,
            0.12018716535038441,
            0.10755320871767204,
            0.08856296729062987,
            0.1181115318532155,
            0.39887746338056373,
            0.4001534839637866,
            0.45279982196625435,
            0.472267288584935,
            0.38654912731356506,
            0.36699715075067085,
            0.42197575635970364,
            0.4404644490828931,
            0.34574123713722327,
            0.04641643251840195,
            0.013378260626514132,
            0.12993191248967595,
            0.12209845072780995,
            0.1027439344528391,
            0.13918559813924958,
            0.37751034331399735,
            0.061741178002721046,
            0.03430802488064345,
            0.057605651106212644,
            0.07861613061637254,
            0.4118538353649511,
            0.39604912429791156,
            0.4061988087459916,
            0.06192019720753811,
            0.4160198650764736,
            0.41251854450275954,
            0.4197932446614159,
            0.38623486513927036,
            0.42684494274827633,
            0.39533449071962934,
            0.41874082971591686,
            0.44520148761571293,
            0.41935078333193015,
            0.43178056104528334,
            0.40525089504866535,
            0.392016342009975,
            0.4136869166149259,
            0.3773961761935521,
            0.043883698063077986,
            0.40123551021080733,
            0.3540657645406965,
            0.08279088435049305,
            0.10498859360271903,
            0.08898252423629235,
            0.465418370591799,
            0.46059736684191954,
            0.48489969036304376,
            0.4416630658825232,
            0.4646207167521747,
            0.3682269335110813,
            0.47380118657267,
            0.4337370958429533,
            0.4515368188103959,
            0.11541594020230676,
            0.09374837615354864,
            0.4107760867954435,
            0.214094667236564,
            0.2651960981807123,
            0.3841962969519988,
            0.42496456042108544
           ]
          },
          {
           "label": "hidden_size",
           "range": [
            32,
            126
           ],
           "values": [
            44,
            56,
            57,
            80,
            54,
            102,
            74,
            116,
            99,
            115,
            35,
            32,
            52,
            64,
            66,
            85,
            46,
            43,
            46,
            71,
            93,
            65,
            52,
            62,
            38,
            48,
            72,
            78,
            89,
            42,
            41,
            48,
            58,
            39,
            52,
            57,
            126,
            72,
            50,
            32,
            60,
            67,
            81,
            54,
            69,
            43,
            43,
            37,
            37,
            34,
            45,
            41,
            47,
            36,
            54,
            43,
            107,
            50,
            50,
            39,
            41,
            32,
            45,
            39,
            35,
            51,
            61,
            47,
            56,
            39,
            44,
            42,
            49,
            45,
            37,
            54,
            40,
            34,
            33,
            37,
            37,
            35,
            47,
            36,
            39,
            42,
            44,
            52,
            35,
            49,
            59,
            32,
            34,
            38,
            40,
            44,
            46,
            44,
            55,
            97,
            41,
            44,
            52,
            48,
            76,
            63,
            37,
            45,
            43,
            41,
            50,
            44,
            46,
            38,
            43,
            40,
            48,
            35,
            52,
            38,
            45,
            42,
            36,
            90,
            78,
            76,
            47,
            120,
            40,
            50,
            85,
            75,
            82,
            71,
            70,
            73,
            70,
            68,
            75,
            66,
            71,
            71,
            74,
            80,
            77,
            65,
            72,
            68,
            82,
            75,
            70,
            78,
            80,
            32,
            73,
            38,
            62,
            67,
            57,
            63,
            69,
            70,
            65,
            60,
            72,
            74,
            76,
            84,
            75,
            77,
            78,
            72,
            69,
            73,
            53,
            62,
            36,
            48,
            68,
            42,
            76,
            72,
            70,
            71,
            46,
            45,
            50,
            41,
            46,
            34,
            43,
            48,
            75,
            67,
            40,
            73,
            78,
            44,
            38,
            46
           ]
          },
          {
           "label": "lr",
           "range": [
            -3.9997134483628662,
            -2.003964784167361
           ],
           "ticktext": [
            "0.0001",
            "0.001",
            "0.00991"
           ],
           "tickvals": [
            -3.9997134483628662,
            -3,
            -2.003964784167361
           ],
           "values": [
            -2.4437051494343183,
            -2.037850540506433,
            -3.402652542155776,
            -3.433837206161631,
            -3.9668063643263785,
            -3.7119308892844307,
            -2.5856276486923058,
            -2.9418436090977944,
            -2.915097288152326,
            -2.013134964908002,
            -2.003964784167361,
            -2.40764313790523,
            -2.493049432552448,
            -2.249562331155324,
            -2.624674532775299,
            -2.1903863741559237,
            -2.8309531840499282,
            -3.1610756197141723,
            -2.7747644680712926,
            -3.0997330972244805,
            -2.7428927824836813,
            -3.1808128406838394,
            -3.407378904402253,
            -3.2273812730243283,
            -2.808158393161272,
            -2.514691062438078,
            -3.0582190274204555,
            -2.9992981613153136,
            -2.3061709052723893,
            -2.691210744553716,
            -2.4505587883673705,
            -2.6737526609406586,
            -2.831020120213849,
            -3.0685764782251996,
            -2.660408322096856,
            -3.5521187655542574,
            -3.2866468761862317,
            -2.3854741986121253,
            -2.9074636384997903,
            -2.5318797268194433,
            -3.838146640771568,
            -3.2824639489861083,
            -3.048825526526798,
            -2.9707754425810604,
            -3.554548750683339,
            -2.8643936830617855,
            -2.8817641451239613,
            -2.716416651041743,
            -2.7198770581699203,
            -2.136872679753922,
            -2.5643429859301046,
            -2.87662752938805,
            -2.627365810544617,
            -2.801764854494309,
            -2.718067590439611,
            -3.11431732936571,
            -2.4513518726742602,
            -2.963780363458729,
            -2.958206563731647,
            -2.359850944612103,
            -2.332947422771438,
            -2.579606374017069,
            -2.1338990359190375,
            -2.4844357079185047,
            -2.7445204456937797,
            -2.361920786898367,
            -2.2429712078878876,
            -2.8530953072225103,
            -2.7019062989074922,
            -2.626582127113419,
            -2.800007375724474,
            -2.8033897403446684,
            -2.929893158413115,
            -3.017651592135294,
            -2.7764908602525935,
            -2.777652838180596,
            -2.8412590667607334,
            -2.527462212002352,
            -2.4233354853168745,
            -2.5168991413992092,
            -2.639373822393649,
            -2.52736623354951,
            -2.574857223335131,
            -2.4788132379716004,
            -2.281520825086654,
            -2.525442578396062,
            -2.6704093771731348,
            -2.398959998570561,
            -2.588753225621686,
            -2.2120974964860247,
            -2.7746891763915698,
            -2.544014875765161,
            -2.3570271122756736,
            -2.4564932787645493,
            -2.5120594237947125,
            -2.6144078860522724,
            -2.6804721463639742,
            -2.75628509880303,
            -2.903443918534994,
            -2.9637809589177824,
            -2.7741713872782503,
            -2.608725841011165,
            -2.8245885927099668,
            -2.741873306101863,
            -2.6634780981836665,
            -3.0049305453104798,
            -2.5996304738948446,
            -2.4801650588759108,
            -2.317186804868413,
            -2.8934842454745855,
            -2.7395888669657285,
            -2.6046306402695123,
            -2.691253655699188,
            -2.63477308098652,
            -2.4006387203344883,
            -2.55554956885331,
            -2.7837303742919444,
            -2.434898302124163,
            -2.842670333901756,
            -2.4961020727024525,
            -2.7018074463885178,
            -2.650793104465922,
            -2.6703301123247716,
            -2.6021270506383334,
            -2.7470488292430386,
            -2.9278598840356165,
            -3.0924581794947956,
            -2.9281843350534946,
            -2.8735131656449324,
            -3.0389412599860868,
            -3.1770373888197208,
            -2.8162644539163892,
            -2.9693292012693613,
            -2.818832001509628,
            -2.83002642770884,
            -2.904423644685075,
            -2.791710263427285,
            -2.8188899292919025,
            -2.9304144958845697,
            -2.865493155084487,
            -2.7927848070418784,
            -2.7953031666054837,
            -2.9942130300785026,
            -3.9997134483628662,
            -2.730722792358717,
            -2.853116837959828,
            -2.7739107988264022,
            -2.887722436268102,
            -2.9439362836830205,
            -2.8004676722046558,
            -2.777019565087762,
            -2.723484264698271,
            -2.824860465002454,
            -2.6860673910367,
            -2.5460102310232315,
            -2.7458022314553845,
            -2.3648073648610484,
            -2.3611021375650108,
            -2.4201537510933826,
            -2.311437102679617,
            -2.12403167944602,
            -2.051227201123537,
            -2.0463906661042652,
            -2.4552883522414026,
            -2.8662959126687118,
            -2.871706266470044,
            -2.292932529264353,
            -2.913772463392467,
            -2.141878528463782,
            -2.1851756362344537,
            -2.072690077607967,
            -2.244254601854067,
            -2.3870684985611446,
            -2.289496542690141,
            -2.3576398504270744,
            -2.5021564201832183,
            -2.982637064512894,
            -2.2653192817257994,
            -3.807781572474436,
            -2.19211073835049,
            -2.434307845448017,
            -2.8237700620117243,
            -2.7677545222705033,
            -2.855076493277995,
            -2.8046874581566934,
            -2.327834554094898,
            -2.8905086594558123,
            -2.9404909333547735,
            -2.1101700134964676,
            -2.558899114130636,
            -2.806539169908032,
            -2.8010710243143095,
            -2.8438633991081006,
            -2.760009573844289,
            -2.71305960287358,
            -2.852652520475712,
            -2.469504843851407,
            -2.799712248132705,
            -2.91791126788637,
            -3.0275776941213386
           ]
          },
          {
           "label": "num_layers",
           "range": [
            2,
            5
           ],
           "values": [
            2,
            3,
            5,
            3,
            3,
            4,
            4,
            4,
            2,
            4,
            5,
            2,
            2,
            3,
            2,
            3,
            2,
            2,
            2,
            2,
            3,
            2,
            2,
            2,
            2,
            3,
            2,
            3,
            2,
            2,
            2,
            2,
            2,
            2,
            3,
            2,
            5,
            3,
            2,
            3,
            4,
            2,
            2,
            2,
            2,
            2,
            2,
            2,
            3,
            4,
            3,
            2,
            2,
            2,
            2,
            2,
            2,
            2,
            2,
            2,
            2,
            2,
            2,
            2,
            2,
            2,
            2,
            3,
            5,
            2,
            2,
            2,
            2,
            2,
            2,
            2,
            2,
            2,
            4,
            2,
            2,
            2,
            2,
            2,
            2,
            2,
            2,
            2,
            2,
            3,
            2,
            2,
            2,
            2,
            2,
            2,
            2,
            2,
            2,
            2,
            2,
            2,
            2,
            2,
            2,
            2,
            2,
            2,
            2,
            2,
            2,
            2,
            2,
            2,
            2,
            2,
            2,
            2,
            2,
            5,
            2,
            2,
            2,
            2,
            2,
            2,
            2,
            2,
            2,
            2,
            4,
            2,
            2,
            2,
            2,
            2,
            2,
            2,
            2,
            2,
            2,
            2,
            2,
            2,
            2,
            2,
            2,
            2,
            2,
            2,
            2,
            2,
            2,
            2,
            2,
            2,
            2,
            2,
            2,
            2,
            2,
            2,
            2,
            2,
            2,
            2,
            2,
            2,
            2,
            2,
            2,
            2,
            2,
            2,
            2,
            2,
            2,
            2,
            2,
            2,
            2,
            2,
            2,
            2,
            2,
            2,
            2,
            2,
            2,
            2,
            2,
            2,
            2,
            2,
            2,
            2,
            2,
            2,
            2,
            2
           ]
          },
          {
           "label": "sequence_legth",
           "range": [
            12,
            72
           ],
           "values": [
            24,
            36,
            12,
            24,
            24,
            60,
            60,
            36,
            48,
            24,
            72,
            36,
            12,
            12,
            48,
            12,
            36,
            48,
            72,
            12,
            60,
            12,
            24,
            12,
            36,
            12,
            24,
            24,
            36,
            24,
            24,
            24,
            36,
            24,
            36,
            24,
            12,
            24,
            24,
            36,
            48,
            12,
            12,
            12,
            24,
            12,
            24,
            12,
            12,
            12,
            12,
            12,
            48,
            12,
            24,
            36,
            12,
            24,
            24,
            12,
            36,
            12,
            12,
            12,
            12,
            24,
            60,
            12,
            24,
            48,
            12,
            12,
            12,
            12,
            12,
            12,
            36,
            24,
            24,
            24,
            24,
            24,
            24,
            24,
            36,
            24,
            36,
            24,
            72,
            24,
            12,
            24,
            24,
            24,
            24,
            24,
            36,
            12,
            12,
            12,
            12,
            12,
            12,
            12,
            12,
            12,
            12,
            12,
            12,
            12,
            12,
            24,
            24,
            24,
            12,
            24,
            48,
            60,
            12,
            36,
            24,
            12,
            12,
            12,
            12,
            12,
            12,
            24,
            12,
            12,
            24,
            12,
            12,
            12,
            12,
            12,
            12,
            12,
            12,
            12,
            12,
            12,
            12,
            12,
            12,
            12,
            12,
            12,
            12,
            12,
            12,
            12,
            12,
            12,
            12,
            12,
            12,
            12,
            12,
            48,
            12,
            12,
            12,
            12,
            12,
            12,
            12,
            12,
            12,
            12,
            12,
            12,
            12,
            12,
            12,
            12,
            12,
            12,
            36,
            12,
            12,
            12,
            12,
            12,
            12,
            12,
            12,
            12,
            12,
            12,
            12,
            12,
            12,
            12,
            12,
            12,
            12,
            12,
            12,
            12
           ]
          }
         ],
         "labelangle": 30,
         "labelside": "bottom",
         "line": {
          "color": [
           0.0093349264934659,
           0.009198351763188839,
           0.01042319554835558,
           0.011399786919355392,
           0.018446609377861023,
           0.011675090529024601,
           0.015735376626253128,
           0.010008466430008411,
           0.011681132018566132,
           0.011610456742346287,
           0.02697497233748436,
           0.009812399744987488,
           0.008556279353797436,
           0.011460713110864162,
           0.013618173077702522,
           0.010146760381758213,
           0.008371425792574883,
           0.012444374151527882,
           0.012443624436855316,
           0.009186151437461376,
           0.009961023926734924,
           0.008970225229859352,
           0.010130168870091438,
           0.009328188374638557,
           0.009503641165792942,
           0.015223124995827675,
           0.0089509766548872,
           0.009594332426786423,
           0.01111068669706583,
           0.008686083368957043,
           0.009415711276233196,
           0.00932841096073389,
           0.00956210307776928,
           0.009268401190638542,
           0.010394646786153316,
           0.011096904054284096,
           0.01815710961818695,
           0.011809993535280228,
           0.00913176592439413,
           0.009434814564883709,
           0.01537179946899414,
           0.009621492587029934,
           0.009134639985859394,
           0.010664672590792179,
           0.010475034825503826,
           0.00882171280682087,
           0.00979404803365469,
           0.00887144822627306,
           0.014695665799081326,
           0.017929144203662872,
           0.00939963385462761,
           0.009185995906591415,
           0.015460826456546783,
           0.009044328704476357,
           0.009471738710999489,
           0.009152790531516075,
           0.009572958573698997,
           0.008561475202441216,
           0.009516141377389431,
           0.008581260219216347,
           0.010060993954539299,
           0.009029243141412735,
           0.010197739116847515,
           0.00956457108259201,
           0.008891637437045574,
           0.009863650426268578,
           0.012625248171389103,
           0.011537307873368263,
           0.01287700142711401,
           0.011699525639414787,
           0.008615048602223396,
           0.010220857337117195,
           0.009178883396089077,
           0.009255260229110718,
           0.008457661606371403,
           0.010218548588454723,
           0.008969493210315704,
           0.008755791001021862,
           0.011885820887982845,
           0.008379095233976841,
           0.009478621184825897,
           0.008556199260056019,
           0.00952085480093956,
           0.0094620231539011,
           0.00908462330698967,
           0.00961876567453146,
           0.009034816175699234,
           0.010826170444488525,
           0.012230457738041878,
           0.010971693322062492,
           0.00889075268059969,
           0.008848169818520546,
           0.009305601939558983,
           0.009361839853227139,
           0.009345216676592827,
           0.008698837831616402,
           0.008799114264547825,
           0.008551688864827156,
           0.009660075418651104,
           0.009365802630782127,
           0.0093581797555089,
           0.008633221499621868,
           0.008837149478495121,
           0.008966075256466866,
           0.00873616710305214,
           0.008826185949146748,
           0.009756268002092838,
           0.009060845710337162,
           0.009760864078998566,
           0.0092498529702425,
           0.00916841346770525,
           0.009647331200540066,
           0.01024575438350439,
           0.009016298688948154,
           0.009346405044198036,
           0.00938387494534254,
           0.013299329206347466,
           0.01198330707848072,
           0.009236689656972885,
           0.010082562454044819,
           0.008841064758598804,
           0.008811458013951778,
           0.009275523014366627,
           0.00901316199451685,
           0.009191892109811306,
           0.008615469560027122,
           0.008869007229804993,
           0.009184151887893677,
           0.008859612047672272,
           0.00929189007729292,
           0.020352136343717575,
           0.008529196493327618,
           0.00899529829621315,
           0.0086841294541955,
           0.009235678240656853,
           0.009015889838337898,
           0.008460627868771553,
           0.009055781178176403,
           0.009710798971354961,
           0.008944639936089516,
           0.008589426055550575,
           0.010792928747832775,
           0.008976049721240997,
           0.01234372053295374,
           0.00896458700299263,
           0.008778342045843601,
           0.008820736780762672,
           0.009055194444954395,
           0.009644712321460247,
           0.009672519750893116,
           0.0097651407122612,
           0.009173537604510784,
           0.009567615576088428,
           0.008733922615647316,
           0.009029771201312542,
           0.009364435449242592,
           0.008651371113955975,
           0.009661491960287094,
           0.008812219835817814,
           0.013777907006442547,
           0.008571285754442215,
           0.0092442212626338,
           0.008756845258176327,
           0.009670546278357506,
           0.008449239656329155,
           0.009290149435400963,
           0.008188284933567047,
           0.008712994866073132,
           0.009128306061029434,
           0.011401346884667873,
           0.009482312016189098,
           0.01336717326194048,
           0.008956319652497768,
           0.008793288841843605,
           0.00919931847602129,
           0.01019132137298584,
           0.009775590151548386,
           0.008730346336960793,
           0.0116804214194417,
           0.00914719421416521,
           0.009206168353557587,
           0.00981894601136446,
           0.008718900382518768,
           0.00913846306502819,
           0.008648036979138851,
           0.008968442678451538,
           0.008744307793676853,
           0.00930727832019329,
           0.008969668298959732,
           0.010748655535280704,
           0.008988440036773682,
           0.0087836142629385,
           0.00913933664560318,
           0.00959093403071165,
           0.010304488241672516,
           0.008993787690997124,
           0.010127645917236805,
           0.009709215722978115,
           0.009032947942614555,
           0.009465394541621208
          ],
          "colorbar": {
           "title": {
            "text": "Objective Value"
           }
          },
          "colorscale": [
           [
            0,
            "rgb(247,251,255)"
           ],
           [
            0.125,
            "rgb(222,235,247)"
           ],
           [
            0.25,
            "rgb(198,219,239)"
           ],
           [
            0.375,
            "rgb(158,202,225)"
           ],
           [
            0.5,
            "rgb(107,174,214)"
           ],
           [
            0.625,
            "rgb(66,146,198)"
           ],
           [
            0.75,
            "rgb(33,113,181)"
           ],
           [
            0.875,
            "rgb(8,81,156)"
           ],
           [
            1,
            "rgb(8,48,107)"
           ]
          ],
          "reversescale": true,
          "showscale": true
         },
         "type": "parcoords"
        }
       ],
       "layout": {
        "template": {
         "data": {
          "bar": [
           {
            "error_x": {
             "color": "#2a3f5f"
            },
            "error_y": {
             "color": "#2a3f5f"
            },
            "marker": {
             "line": {
              "color": "#E5ECF6",
              "width": 0.5
             },
             "pattern": {
              "fillmode": "overlay",
              "size": 10,
              "solidity": 0.2
             }
            },
            "type": "bar"
           }
          ],
          "barpolar": [
           {
            "marker": {
             "line": {
              "color": "#E5ECF6",
              "width": 0.5
             },
             "pattern": {
              "fillmode": "overlay",
              "size": 10,
              "solidity": 0.2
             }
            },
            "type": "barpolar"
           }
          ],
          "carpet": [
           {
            "aaxis": {
             "endlinecolor": "#2a3f5f",
             "gridcolor": "white",
             "linecolor": "white",
             "minorgridcolor": "white",
             "startlinecolor": "#2a3f5f"
            },
            "baxis": {
             "endlinecolor": "#2a3f5f",
             "gridcolor": "white",
             "linecolor": "white",
             "minorgridcolor": "white",
             "startlinecolor": "#2a3f5f"
            },
            "type": "carpet"
           }
          ],
          "choropleth": [
           {
            "colorbar": {
             "outlinewidth": 0,
             "ticks": ""
            },
            "type": "choropleth"
           }
          ],
          "contour": [
           {
            "colorbar": {
             "outlinewidth": 0,
             "ticks": ""
            },
            "colorscale": [
             [
              0,
              "#0d0887"
             ],
             [
              0.1111111111111111,
              "#46039f"
             ],
             [
              0.2222222222222222,
              "#7201a8"
             ],
             [
              0.3333333333333333,
              "#9c179e"
             ],
             [
              0.4444444444444444,
              "#bd3786"
             ],
             [
              0.5555555555555556,
              "#d8576b"
             ],
             [
              0.6666666666666666,
              "#ed7953"
             ],
             [
              0.7777777777777778,
              "#fb9f3a"
             ],
             [
              0.8888888888888888,
              "#fdca26"
             ],
             [
              1,
              "#f0f921"
             ]
            ],
            "type": "contour"
           }
          ],
          "contourcarpet": [
           {
            "colorbar": {
             "outlinewidth": 0,
             "ticks": ""
            },
            "type": "contourcarpet"
           }
          ],
          "heatmap": [
           {
            "colorbar": {
             "outlinewidth": 0,
             "ticks": ""
            },
            "colorscale": [
             [
              0,
              "#0d0887"
             ],
             [
              0.1111111111111111,
              "#46039f"
             ],
             [
              0.2222222222222222,
              "#7201a8"
             ],
             [
              0.3333333333333333,
              "#9c179e"
             ],
             [
              0.4444444444444444,
              "#bd3786"
             ],
             [
              0.5555555555555556,
              "#d8576b"
             ],
             [
              0.6666666666666666,
              "#ed7953"
             ],
             [
              0.7777777777777778,
              "#fb9f3a"
             ],
             [
              0.8888888888888888,
              "#fdca26"
             ],
             [
              1,
              "#f0f921"
             ]
            ],
            "type": "heatmap"
           }
          ],
          "histogram": [
           {
            "marker": {
             "pattern": {
              "fillmode": "overlay",
              "size": 10,
              "solidity": 0.2
             }
            },
            "type": "histogram"
           }
          ],
          "histogram2d": [
           {
            "colorbar": {
             "outlinewidth": 0,
             "ticks": ""
            },
            "colorscale": [
             [
              0,
              "#0d0887"
             ],
             [
              0.1111111111111111,
              "#46039f"
             ],
             [
              0.2222222222222222,
              "#7201a8"
             ],
             [
              0.3333333333333333,
              "#9c179e"
             ],
             [
              0.4444444444444444,
              "#bd3786"
             ],
             [
              0.5555555555555556,
              "#d8576b"
             ],
             [
              0.6666666666666666,
              "#ed7953"
             ],
             [
              0.7777777777777778,
              "#fb9f3a"
             ],
             [
              0.8888888888888888,
              "#fdca26"
             ],
             [
              1,
              "#f0f921"
             ]
            ],
            "type": "histogram2d"
           }
          ],
          "histogram2dcontour": [
           {
            "colorbar": {
             "outlinewidth": 0,
             "ticks": ""
            },
            "colorscale": [
             [
              0,
              "#0d0887"
             ],
             [
              0.1111111111111111,
              "#46039f"
             ],
             [
              0.2222222222222222,
              "#7201a8"
             ],
             [
              0.3333333333333333,
              "#9c179e"
             ],
             [
              0.4444444444444444,
              "#bd3786"
             ],
             [
              0.5555555555555556,
              "#d8576b"
             ],
             [
              0.6666666666666666,
              "#ed7953"
             ],
             [
              0.7777777777777778,
              "#fb9f3a"
             ],
             [
              0.8888888888888888,
              "#fdca26"
             ],
             [
              1,
              "#f0f921"
             ]
            ],
            "type": "histogram2dcontour"
           }
          ],
          "mesh3d": [
           {
            "colorbar": {
             "outlinewidth": 0,
             "ticks": ""
            },
            "type": "mesh3d"
           }
          ],
          "parcoords": [
           {
            "line": {
             "colorbar": {
              "outlinewidth": 0,
              "ticks": ""
             }
            },
            "type": "parcoords"
           }
          ],
          "pie": [
           {
            "automargin": true,
            "type": "pie"
           }
          ],
          "scatter": [
           {
            "fillpattern": {
             "fillmode": "overlay",
             "size": 10,
             "solidity": 0.2
            },
            "type": "scatter"
           }
          ],
          "scatter3d": [
           {
            "line": {
             "colorbar": {
              "outlinewidth": 0,
              "ticks": ""
             }
            },
            "marker": {
             "colorbar": {
              "outlinewidth": 0,
              "ticks": ""
             }
            },
            "type": "scatter3d"
           }
          ],
          "scattercarpet": [
           {
            "marker": {
             "colorbar": {
              "outlinewidth": 0,
              "ticks": ""
             }
            },
            "type": "scattercarpet"
           }
          ],
          "scattergeo": [
           {
            "marker": {
             "colorbar": {
              "outlinewidth": 0,
              "ticks": ""
             }
            },
            "type": "scattergeo"
           }
          ],
          "scattergl": [
           {
            "marker": {
             "colorbar": {
              "outlinewidth": 0,
              "ticks": ""
             }
            },
            "type": "scattergl"
           }
          ],
          "scattermap": [
           {
            "marker": {
             "colorbar": {
              "outlinewidth": 0,
              "ticks": ""
             }
            },
            "type": "scattermap"
           }
          ],
          "scattermapbox": [
           {
            "marker": {
             "colorbar": {
              "outlinewidth": 0,
              "ticks": ""
             }
            },
            "type": "scattermapbox"
           }
          ],
          "scatterpolar": [
           {
            "marker": {
             "colorbar": {
              "outlinewidth": 0,
              "ticks": ""
             }
            },
            "type": "scatterpolar"
           }
          ],
          "scatterpolargl": [
           {
            "marker": {
             "colorbar": {
              "outlinewidth": 0,
              "ticks": ""
             }
            },
            "type": "scatterpolargl"
           }
          ],
          "scatterternary": [
           {
            "marker": {
             "colorbar": {
              "outlinewidth": 0,
              "ticks": ""
             }
            },
            "type": "scatterternary"
           }
          ],
          "surface": [
           {
            "colorbar": {
             "outlinewidth": 0,
             "ticks": ""
            },
            "colorscale": [
             [
              0,
              "#0d0887"
             ],
             [
              0.1111111111111111,
              "#46039f"
             ],
             [
              0.2222222222222222,
              "#7201a8"
             ],
             [
              0.3333333333333333,
              "#9c179e"
             ],
             [
              0.4444444444444444,
              "#bd3786"
             ],
             [
              0.5555555555555556,
              "#d8576b"
             ],
             [
              0.6666666666666666,
              "#ed7953"
             ],
             [
              0.7777777777777778,
              "#fb9f3a"
             ],
             [
              0.8888888888888888,
              "#fdca26"
             ],
             [
              1,
              "#f0f921"
             ]
            ],
            "type": "surface"
           }
          ],
          "table": [
           {
            "cells": {
             "fill": {
              "color": "#EBF0F8"
             },
             "line": {
              "color": "white"
             }
            },
            "header": {
             "fill": {
              "color": "#C8D4E3"
             },
             "line": {
              "color": "white"
             }
            },
            "type": "table"
           }
          ]
         },
         "layout": {
          "annotationdefaults": {
           "arrowcolor": "#2a3f5f",
           "arrowhead": 0,
           "arrowwidth": 1
          },
          "autotypenumbers": "strict",
          "coloraxis": {
           "colorbar": {
            "outlinewidth": 0,
            "ticks": ""
           }
          },
          "colorscale": {
           "diverging": [
            [
             0,
             "#8e0152"
            ],
            [
             0.1,
             "#c51b7d"
            ],
            [
             0.2,
             "#de77ae"
            ],
            [
             0.3,
             "#f1b6da"
            ],
            [
             0.4,
             "#fde0ef"
            ],
            [
             0.5,
             "#f7f7f7"
            ],
            [
             0.6,
             "#e6f5d0"
            ],
            [
             0.7,
             "#b8e186"
            ],
            [
             0.8,
             "#7fbc41"
            ],
            [
             0.9,
             "#4d9221"
            ],
            [
             1,
             "#276419"
            ]
           ],
           "sequential": [
            [
             0,
             "#0d0887"
            ],
            [
             0.1111111111111111,
             "#46039f"
            ],
            [
             0.2222222222222222,
             "#7201a8"
            ],
            [
             0.3333333333333333,
             "#9c179e"
            ],
            [
             0.4444444444444444,
             "#bd3786"
            ],
            [
             0.5555555555555556,
             "#d8576b"
            ],
            [
             0.6666666666666666,
             "#ed7953"
            ],
            [
             0.7777777777777778,
             "#fb9f3a"
            ],
            [
             0.8888888888888888,
             "#fdca26"
            ],
            [
             1,
             "#f0f921"
            ]
           ],
           "sequentialminus": [
            [
             0,
             "#0d0887"
            ],
            [
             0.1111111111111111,
             "#46039f"
            ],
            [
             0.2222222222222222,
             "#7201a8"
            ],
            [
             0.3333333333333333,
             "#9c179e"
            ],
            [
             0.4444444444444444,
             "#bd3786"
            ],
            [
             0.5555555555555556,
             "#d8576b"
            ],
            [
             0.6666666666666666,
             "#ed7953"
            ],
            [
             0.7777777777777778,
             "#fb9f3a"
            ],
            [
             0.8888888888888888,
             "#fdca26"
            ],
            [
             1,
             "#f0f921"
            ]
           ]
          },
          "colorway": [
           "#636efa",
           "#EF553B",
           "#00cc96",
           "#ab63fa",
           "#FFA15A",
           "#19d3f3",
           "#FF6692",
           "#B6E880",
           "#FF97FF",
           "#FECB52"
          ],
          "font": {
           "color": "#2a3f5f"
          },
          "geo": {
           "bgcolor": "white",
           "lakecolor": "white",
           "landcolor": "#E5ECF6",
           "showlakes": true,
           "showland": true,
           "subunitcolor": "white"
          },
          "hoverlabel": {
           "align": "left"
          },
          "hovermode": "closest",
          "mapbox": {
           "style": "light"
          },
          "paper_bgcolor": "white",
          "plot_bgcolor": "#E5ECF6",
          "polar": {
           "angularaxis": {
            "gridcolor": "white",
            "linecolor": "white",
            "ticks": ""
           },
           "bgcolor": "#E5ECF6",
           "radialaxis": {
            "gridcolor": "white",
            "linecolor": "white",
            "ticks": ""
           }
          },
          "scene": {
           "xaxis": {
            "backgroundcolor": "#E5ECF6",
            "gridcolor": "white",
            "gridwidth": 2,
            "linecolor": "white",
            "showbackground": true,
            "ticks": "",
            "zerolinecolor": "white"
           },
           "yaxis": {
            "backgroundcolor": "#E5ECF6",
            "gridcolor": "white",
            "gridwidth": 2,
            "linecolor": "white",
            "showbackground": true,
            "ticks": "",
            "zerolinecolor": "white"
           },
           "zaxis": {
            "backgroundcolor": "#E5ECF6",
            "gridcolor": "white",
            "gridwidth": 2,
            "linecolor": "white",
            "showbackground": true,
            "ticks": "",
            "zerolinecolor": "white"
           }
          },
          "shapedefaults": {
           "line": {
            "color": "#2a3f5f"
           }
          },
          "ternary": {
           "aaxis": {
            "gridcolor": "white",
            "linecolor": "white",
            "ticks": ""
           },
           "baxis": {
            "gridcolor": "white",
            "linecolor": "white",
            "ticks": ""
           },
           "bgcolor": "#E5ECF6",
           "caxis": {
            "gridcolor": "white",
            "linecolor": "white",
            "ticks": ""
           }
          },
          "title": {
           "x": 0.05
          },
          "xaxis": {
           "automargin": true,
           "gridcolor": "white",
           "linecolor": "white",
           "ticks": "",
           "title": {
            "standoff": 15
           },
           "zerolinecolor": "white",
           "zerolinewidth": 2
          },
          "yaxis": {
           "automargin": true,
           "gridcolor": "white",
           "linecolor": "white",
           "ticks": "",
           "title": {
            "standoff": 15
           },
           "zerolinecolor": "white",
           "zerolinewidth": 2
          }
         }
        },
        "title": {
         "text": "Parallel Coordinate Plot"
        }
       }
      }
     },
     "metadata": {},
     "output_type": "display_data"
    }
   ],
   "source": [
    "optuna.visualization.plot_parallel_coordinate(study)"
   ]
  },
  {
   "cell_type": "code",
   "execution_count": null,
   "id": "02edbed9",
   "metadata": {},
   "outputs": [
    {
     "data": {
      "application/vnd.plotly.v1+json": {
       "config": {
        "plotlyServerURL": "https://plot.ly"
       },
       "data": [
        {
         "cliponaxis": false,
         "hovertemplate": [
          "hidden_size (IntDistribution): 0.10269135723016747<extra></extra>",
          "sequence_legth (IntDistribution): 0.14343035433655768<extra></extra>",
          "num_layers (IntDistribution): 0.206323583263045<extra></extra>",
          "dropout (FloatDistribution): 0.22578867730953137<extra></extra>",
          "lr (FloatDistribution): 0.32176602786069847<extra></extra>"
         ],
         "name": "Objective Value",
         "orientation": "h",
         "text": [
          "0.10",
          "0.14",
          "0.21",
          "0.23",
          "0.32"
         ],
         "textposition": "outside",
         "type": "bar",
         "x": [
          0.10269135723016747,
          0.14343035433655768,
          0.206323583263045,
          0.22578867730953137,
          0.32176602786069847
         ],
         "y": [
          "hidden_size",
          "sequence_legth",
          "num_layers",
          "dropout",
          "lr"
         ]
        }
       ],
       "layout": {
        "template": {
         "data": {
          "bar": [
           {
            "error_x": {
             "color": "#2a3f5f"
            },
            "error_y": {
             "color": "#2a3f5f"
            },
            "marker": {
             "line": {
              "color": "#E5ECF6",
              "width": 0.5
             },
             "pattern": {
              "fillmode": "overlay",
              "size": 10,
              "solidity": 0.2
             }
            },
            "type": "bar"
           }
          ],
          "barpolar": [
           {
            "marker": {
             "line": {
              "color": "#E5ECF6",
              "width": 0.5
             },
             "pattern": {
              "fillmode": "overlay",
              "size": 10,
              "solidity": 0.2
             }
            },
            "type": "barpolar"
           }
          ],
          "carpet": [
           {
            "aaxis": {
             "endlinecolor": "#2a3f5f",
             "gridcolor": "white",
             "linecolor": "white",
             "minorgridcolor": "white",
             "startlinecolor": "#2a3f5f"
            },
            "baxis": {
             "endlinecolor": "#2a3f5f",
             "gridcolor": "white",
             "linecolor": "white",
             "minorgridcolor": "white",
             "startlinecolor": "#2a3f5f"
            },
            "type": "carpet"
           }
          ],
          "choropleth": [
           {
            "colorbar": {
             "outlinewidth": 0,
             "ticks": ""
            },
            "type": "choropleth"
           }
          ],
          "contour": [
           {
            "colorbar": {
             "outlinewidth": 0,
             "ticks": ""
            },
            "colorscale": [
             [
              0,
              "#0d0887"
             ],
             [
              0.1111111111111111,
              "#46039f"
             ],
             [
              0.2222222222222222,
              "#7201a8"
             ],
             [
              0.3333333333333333,
              "#9c179e"
             ],
             [
              0.4444444444444444,
              "#bd3786"
             ],
             [
              0.5555555555555556,
              "#d8576b"
             ],
             [
              0.6666666666666666,
              "#ed7953"
             ],
             [
              0.7777777777777778,
              "#fb9f3a"
             ],
             [
              0.8888888888888888,
              "#fdca26"
             ],
             [
              1,
              "#f0f921"
             ]
            ],
            "type": "contour"
           }
          ],
          "contourcarpet": [
           {
            "colorbar": {
             "outlinewidth": 0,
             "ticks": ""
            },
            "type": "contourcarpet"
           }
          ],
          "heatmap": [
           {
            "colorbar": {
             "outlinewidth": 0,
             "ticks": ""
            },
            "colorscale": [
             [
              0,
              "#0d0887"
             ],
             [
              0.1111111111111111,
              "#46039f"
             ],
             [
              0.2222222222222222,
              "#7201a8"
             ],
             [
              0.3333333333333333,
              "#9c179e"
             ],
             [
              0.4444444444444444,
              "#bd3786"
             ],
             [
              0.5555555555555556,
              "#d8576b"
             ],
             [
              0.6666666666666666,
              "#ed7953"
             ],
             [
              0.7777777777777778,
              "#fb9f3a"
             ],
             [
              0.8888888888888888,
              "#fdca26"
             ],
             [
              1,
              "#f0f921"
             ]
            ],
            "type": "heatmap"
           }
          ],
          "histogram": [
           {
            "marker": {
             "pattern": {
              "fillmode": "overlay",
              "size": 10,
              "solidity": 0.2
             }
            },
            "type": "histogram"
           }
          ],
          "histogram2d": [
           {
            "colorbar": {
             "outlinewidth": 0,
             "ticks": ""
            },
            "colorscale": [
             [
              0,
              "#0d0887"
             ],
             [
              0.1111111111111111,
              "#46039f"
             ],
             [
              0.2222222222222222,
              "#7201a8"
             ],
             [
              0.3333333333333333,
              "#9c179e"
             ],
             [
              0.4444444444444444,
              "#bd3786"
             ],
             [
              0.5555555555555556,
              "#d8576b"
             ],
             [
              0.6666666666666666,
              "#ed7953"
             ],
             [
              0.7777777777777778,
              "#fb9f3a"
             ],
             [
              0.8888888888888888,
              "#fdca26"
             ],
             [
              1,
              "#f0f921"
             ]
            ],
            "type": "histogram2d"
           }
          ],
          "histogram2dcontour": [
           {
            "colorbar": {
             "outlinewidth": 0,
             "ticks": ""
            },
            "colorscale": [
             [
              0,
              "#0d0887"
             ],
             [
              0.1111111111111111,
              "#46039f"
             ],
             [
              0.2222222222222222,
              "#7201a8"
             ],
             [
              0.3333333333333333,
              "#9c179e"
             ],
             [
              0.4444444444444444,
              "#bd3786"
             ],
             [
              0.5555555555555556,
              "#d8576b"
             ],
             [
              0.6666666666666666,
              "#ed7953"
             ],
             [
              0.7777777777777778,
              "#fb9f3a"
             ],
             [
              0.8888888888888888,
              "#fdca26"
             ],
             [
              1,
              "#f0f921"
             ]
            ],
            "type": "histogram2dcontour"
           }
          ],
          "mesh3d": [
           {
            "colorbar": {
             "outlinewidth": 0,
             "ticks": ""
            },
            "type": "mesh3d"
           }
          ],
          "parcoords": [
           {
            "line": {
             "colorbar": {
              "outlinewidth": 0,
              "ticks": ""
             }
            },
            "type": "parcoords"
           }
          ],
          "pie": [
           {
            "automargin": true,
            "type": "pie"
           }
          ],
          "scatter": [
           {
            "fillpattern": {
             "fillmode": "overlay",
             "size": 10,
             "solidity": 0.2
            },
            "type": "scatter"
           }
          ],
          "scatter3d": [
           {
            "line": {
             "colorbar": {
              "outlinewidth": 0,
              "ticks": ""
             }
            },
            "marker": {
             "colorbar": {
              "outlinewidth": 0,
              "ticks": ""
             }
            },
            "type": "scatter3d"
           }
          ],
          "scattercarpet": [
           {
            "marker": {
             "colorbar": {
              "outlinewidth": 0,
              "ticks": ""
             }
            },
            "type": "scattercarpet"
           }
          ],
          "scattergeo": [
           {
            "marker": {
             "colorbar": {
              "outlinewidth": 0,
              "ticks": ""
             }
            },
            "type": "scattergeo"
           }
          ],
          "scattergl": [
           {
            "marker": {
             "colorbar": {
              "outlinewidth": 0,
              "ticks": ""
             }
            },
            "type": "scattergl"
           }
          ],
          "scattermap": [
           {
            "marker": {
             "colorbar": {
              "outlinewidth": 0,
              "ticks": ""
             }
            },
            "type": "scattermap"
           }
          ],
          "scattermapbox": [
           {
            "marker": {
             "colorbar": {
              "outlinewidth": 0,
              "ticks": ""
             }
            },
            "type": "scattermapbox"
           }
          ],
          "scatterpolar": [
           {
            "marker": {
             "colorbar": {
              "outlinewidth": 0,
              "ticks": ""
             }
            },
            "type": "scatterpolar"
           }
          ],
          "scatterpolargl": [
           {
            "marker": {
             "colorbar": {
              "outlinewidth": 0,
              "ticks": ""
             }
            },
            "type": "scatterpolargl"
           }
          ],
          "scatterternary": [
           {
            "marker": {
             "colorbar": {
              "outlinewidth": 0,
              "ticks": ""
             }
            },
            "type": "scatterternary"
           }
          ],
          "surface": [
           {
            "colorbar": {
             "outlinewidth": 0,
             "ticks": ""
            },
            "colorscale": [
             [
              0,
              "#0d0887"
             ],
             [
              0.1111111111111111,
              "#46039f"
             ],
             [
              0.2222222222222222,
              "#7201a8"
             ],
             [
              0.3333333333333333,
              "#9c179e"
             ],
             [
              0.4444444444444444,
              "#bd3786"
             ],
             [
              0.5555555555555556,
              "#d8576b"
             ],
             [
              0.6666666666666666,
              "#ed7953"
             ],
             [
              0.7777777777777778,
              "#fb9f3a"
             ],
             [
              0.8888888888888888,
              "#fdca26"
             ],
             [
              1,
              "#f0f921"
             ]
            ],
            "type": "surface"
           }
          ],
          "table": [
           {
            "cells": {
             "fill": {
              "color": "#EBF0F8"
             },
             "line": {
              "color": "white"
             }
            },
            "header": {
             "fill": {
              "color": "#C8D4E3"
             },
             "line": {
              "color": "white"
             }
            },
            "type": "table"
           }
          ]
         },
         "layout": {
          "annotationdefaults": {
           "arrowcolor": "#2a3f5f",
           "arrowhead": 0,
           "arrowwidth": 1
          },
          "autotypenumbers": "strict",
          "coloraxis": {
           "colorbar": {
            "outlinewidth": 0,
            "ticks": ""
           }
          },
          "colorscale": {
           "diverging": [
            [
             0,
             "#8e0152"
            ],
            [
             0.1,
             "#c51b7d"
            ],
            [
             0.2,
             "#de77ae"
            ],
            [
             0.3,
             "#f1b6da"
            ],
            [
             0.4,
             "#fde0ef"
            ],
            [
             0.5,
             "#f7f7f7"
            ],
            [
             0.6,
             "#e6f5d0"
            ],
            [
             0.7,
             "#b8e186"
            ],
            [
             0.8,
             "#7fbc41"
            ],
            [
             0.9,
             "#4d9221"
            ],
            [
             1,
             "#276419"
            ]
           ],
           "sequential": [
            [
             0,
             "#0d0887"
            ],
            [
             0.1111111111111111,
             "#46039f"
            ],
            [
             0.2222222222222222,
             "#7201a8"
            ],
            [
             0.3333333333333333,
             "#9c179e"
            ],
            [
             0.4444444444444444,
             "#bd3786"
            ],
            [
             0.5555555555555556,
             "#d8576b"
            ],
            [
             0.6666666666666666,
             "#ed7953"
            ],
            [
             0.7777777777777778,
             "#fb9f3a"
            ],
            [
             0.8888888888888888,
             "#fdca26"
            ],
            [
             1,
             "#f0f921"
            ]
           ],
           "sequentialminus": [
            [
             0,
             "#0d0887"
            ],
            [
             0.1111111111111111,
             "#46039f"
            ],
            [
             0.2222222222222222,
             "#7201a8"
            ],
            [
             0.3333333333333333,
             "#9c179e"
            ],
            [
             0.4444444444444444,
             "#bd3786"
            ],
            [
             0.5555555555555556,
             "#d8576b"
            ],
            [
             0.6666666666666666,
             "#ed7953"
            ],
            [
             0.7777777777777778,
             "#fb9f3a"
            ],
            [
             0.8888888888888888,
             "#fdca26"
            ],
            [
             1,
             "#f0f921"
            ]
           ]
          },
          "colorway": [
           "#636efa",
           "#EF553B",
           "#00cc96",
           "#ab63fa",
           "#FFA15A",
           "#19d3f3",
           "#FF6692",
           "#B6E880",
           "#FF97FF",
           "#FECB52"
          ],
          "font": {
           "color": "#2a3f5f"
          },
          "geo": {
           "bgcolor": "white",
           "lakecolor": "white",
           "landcolor": "#E5ECF6",
           "showlakes": true,
           "showland": true,
           "subunitcolor": "white"
          },
          "hoverlabel": {
           "align": "left"
          },
          "hovermode": "closest",
          "mapbox": {
           "style": "light"
          },
          "paper_bgcolor": "white",
          "plot_bgcolor": "#E5ECF6",
          "polar": {
           "angularaxis": {
            "gridcolor": "white",
            "linecolor": "white",
            "ticks": ""
           },
           "bgcolor": "#E5ECF6",
           "radialaxis": {
            "gridcolor": "white",
            "linecolor": "white",
            "ticks": ""
           }
          },
          "scene": {
           "xaxis": {
            "backgroundcolor": "#E5ECF6",
            "gridcolor": "white",
            "gridwidth": 2,
            "linecolor": "white",
            "showbackground": true,
            "ticks": "",
            "zerolinecolor": "white"
           },
           "yaxis": {
            "backgroundcolor": "#E5ECF6",
            "gridcolor": "white",
            "gridwidth": 2,
            "linecolor": "white",
            "showbackground": true,
            "ticks": "",
            "zerolinecolor": "white"
           },
           "zaxis": {
            "backgroundcolor": "#E5ECF6",
            "gridcolor": "white",
            "gridwidth": 2,
            "linecolor": "white",
            "showbackground": true,
            "ticks": "",
            "zerolinecolor": "white"
           }
          },
          "shapedefaults": {
           "line": {
            "color": "#2a3f5f"
           }
          },
          "ternary": {
           "aaxis": {
            "gridcolor": "white",
            "linecolor": "white",
            "ticks": ""
           },
           "baxis": {
            "gridcolor": "white",
            "linecolor": "white",
            "ticks": ""
           },
           "bgcolor": "#E5ECF6",
           "caxis": {
            "gridcolor": "white",
            "linecolor": "white",
            "ticks": ""
           }
          },
          "title": {
           "x": 0.05
          },
          "xaxis": {
           "automargin": true,
           "gridcolor": "white",
           "linecolor": "white",
           "ticks": "",
           "title": {
            "standoff": 15
           },
           "zerolinecolor": "white",
           "zerolinewidth": 2
          },
          "yaxis": {
           "automargin": true,
           "gridcolor": "white",
           "linecolor": "white",
           "ticks": "",
           "title": {
            "standoff": 15
           },
           "zerolinecolor": "white",
           "zerolinewidth": 2
          }
         }
        },
        "title": {
         "text": "Hyperparameter Importances"
        },
        "xaxis": {
         "title": {
          "text": "Hyperparameter Importance"
         }
        },
        "yaxis": {
         "title": {
          "text": "Hyperparameter"
         }
        }
       }
      }
     },
     "metadata": {},
     "output_type": "display_data"
    }
   ],
   "source": [
    "optuna.visualization.plot_param_importances(study)"
   ]
  }
 ],
 "metadata": {
  "kernelspec": {
   "display_name": "TF-ML",
   "language": "python",
   "name": "python3"
  },
  "language_info": {
   "codemirror_mode": {
    "name": "ipython",
    "version": 3
   },
   "file_extension": ".py",
   "mimetype": "text/x-python",
   "name": "python",
   "nbconvert_exporter": "python",
   "pygments_lexer": "ipython3",
   "version": "3.11.0"
  }
 },
 "nbformat": 4,
 "nbformat_minor": 5
}
