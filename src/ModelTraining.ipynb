{
 "cells": [
  {
   "cell_type": "markdown",
   "id": "18accfaa",
   "metadata": {},
   "source": [
    "# Importe de librerias"
   ]
  },
  {
   "cell_type": "code",
   "execution_count": 1,
   "id": "e3eb361c",
   "metadata": {},
   "outputs": [],
   "source": [
    "import pandas as pd\n",
    "import lightning as L\n",
    "from lightning.pytorch.callbacks import ModelCheckpoint\n",
    "import os\n",
    "from sklearn.model_selection import train_test_split\n",
    "import torch\n",
    "\n",
    "torch.set_float32_matmul_precision('high')"
   ]
  },
  {
   "cell_type": "code",
   "execution_count": 2,
   "id": "91b36912",
   "metadata": {},
   "outputs": [],
   "source": [
    "from dataset import LitPriceData\n",
    "from trainer import LitTrainer"
   ]
  },
  {
   "cell_type": "code",
   "execution_count": 3,
   "id": "17e50b05",
   "metadata": {},
   "outputs": [],
   "source": [
    "from utils import splitData"
   ]
  },
  {
   "cell_type": "markdown",
   "id": "52704334",
   "metadata": {},
   "source": [
    "# Carga de monedas selecionadas"
   ]
  },
  {
   "cell_type": "code",
   "execution_count": 4,
   "id": "c604b931",
   "metadata": {},
   "outputs": [
    {
     "data": {
      "application/vnd.microsoft.datawrangler.viewer.v0+json": {
       "columns": [
        {
         "name": "index",
         "rawType": "int64",
         "type": "integer"
        },
        {
         "name": "0",
         "rawType": "object",
         "type": "string"
        }
       ],
       "ref": "defe4860-eb6f-45ae-85cf-70aa4456001a",
       "rows": [
        [
         "0",
         "celestia"
        ],
        [
         "1",
         "flare-networks"
        ],
        [
         "2",
         "polygon-bridged-usdt-polygon"
        ],
        [
         "3",
         "xdce-crowd-sale"
        ],
        [
         "4",
         "injective-protocol"
        ],
        [
         "5",
         "virtual-protocol"
        ],
        [
         "6",
         "blockstack"
        ],
        [
         "7",
         "sonic-3"
        ],
        [
         "8",
         "binance-bridged-usdc-bnb-smart-chain"
        ],
        [
         "9",
         "mantle-staked-ether"
        ],
        [
         "10",
         "stakewise-v3-oseth"
        ],
        [
         "11",
         "optimism"
        ],
        [
         "12",
         "pudgy-penguins"
        ],
        [
         "13",
         "syrupusdc"
        ],
        [
         "14",
         "story-2"
        ]
       ],
       "shape": {
        "columns": 1,
        "rows": 15
       }
      },
      "text/html": [
       "<div>\n",
       "<style scoped>\n",
       "    .dataframe tbody tr th:only-of-type {\n",
       "        vertical-align: middle;\n",
       "    }\n",
       "\n",
       "    .dataframe tbody tr th {\n",
       "        vertical-align: top;\n",
       "    }\n",
       "\n",
       "    .dataframe thead th {\n",
       "        text-align: right;\n",
       "    }\n",
       "</style>\n",
       "<table border=\"1\" class=\"dataframe\">\n",
       "  <thead>\n",
       "    <tr style=\"text-align: right;\">\n",
       "      <th></th>\n",
       "      <th>0</th>\n",
       "    </tr>\n",
       "  </thead>\n",
       "  <tbody>\n",
       "    <tr>\n",
       "      <th>0</th>\n",
       "      <td>celestia</td>\n",
       "    </tr>\n",
       "    <tr>\n",
       "      <th>1</th>\n",
       "      <td>flare-networks</td>\n",
       "    </tr>\n",
       "    <tr>\n",
       "      <th>2</th>\n",
       "      <td>polygon-bridged-usdt-polygon</td>\n",
       "    </tr>\n",
       "    <tr>\n",
       "      <th>3</th>\n",
       "      <td>xdce-crowd-sale</td>\n",
       "    </tr>\n",
       "    <tr>\n",
       "      <th>4</th>\n",
       "      <td>injective-protocol</td>\n",
       "    </tr>\n",
       "    <tr>\n",
       "      <th>5</th>\n",
       "      <td>virtual-protocol</td>\n",
       "    </tr>\n",
       "    <tr>\n",
       "      <th>6</th>\n",
       "      <td>blockstack</td>\n",
       "    </tr>\n",
       "    <tr>\n",
       "      <th>7</th>\n",
       "      <td>sonic-3</td>\n",
       "    </tr>\n",
       "    <tr>\n",
       "      <th>8</th>\n",
       "      <td>binance-bridged-usdc-bnb-smart-chain</td>\n",
       "    </tr>\n",
       "    <tr>\n",
       "      <th>9</th>\n",
       "      <td>mantle-staked-ether</td>\n",
       "    </tr>\n",
       "    <tr>\n",
       "      <th>10</th>\n",
       "      <td>stakewise-v3-oseth</td>\n",
       "    </tr>\n",
       "    <tr>\n",
       "      <th>11</th>\n",
       "      <td>optimism</td>\n",
       "    </tr>\n",
       "    <tr>\n",
       "      <th>12</th>\n",
       "      <td>pudgy-penguins</td>\n",
       "    </tr>\n",
       "    <tr>\n",
       "      <th>13</th>\n",
       "      <td>syrupusdc</td>\n",
       "    </tr>\n",
       "    <tr>\n",
       "      <th>14</th>\n",
       "      <td>story-2</td>\n",
       "    </tr>\n",
       "  </tbody>\n",
       "</table>\n",
       "</div>"
      ],
      "text/plain": [
       "                                       0\n",
       "0                               celestia\n",
       "1                         flare-networks\n",
       "2           polygon-bridged-usdt-polygon\n",
       "3                        xdce-crowd-sale\n",
       "4                     injective-protocol\n",
       "5                       virtual-protocol\n",
       "6                             blockstack\n",
       "7                                sonic-3\n",
       "8   binance-bridged-usdc-bnb-smart-chain\n",
       "9                    mantle-staked-ether\n",
       "10                    stakewise-v3-oseth\n",
       "11                              optimism\n",
       "12                        pudgy-penguins\n",
       "13                             syrupusdc\n",
       "14                               story-2"
      ]
     },
     "execution_count": 4,
     "metadata": {},
     "output_type": "execute_result"
    }
   ],
   "source": [
    "coins = pd.read_json('../data/selected_coins.json')\n",
    "coins"
   ]
  },
  {
   "cell_type": "code",
   "execution_count": 5,
   "id": "788753a0",
   "metadata": {},
   "outputs": [],
   "source": [
    "def trainModel(model, X, y, checkpoint_callback=None):\n",
    "    X_train, X_val, y_train, y_val = train_test_split(X, y, test_size=0.2, random_state=42)\n",
    "    dataModule = LitPriceData(X_train, y_train, X_val, y_val)\n",
    "       \n",
    "    if checkpoint_callback is not None:\n",
    "        trainer = L.Trainer(max_epochs=75, accelerator=\"auto\", callbacks=[checkpoint_callback])\n",
    "    else:\n",
    "        trainer = L.Trainer(max_epochs=75, accelerator=\"auto\")\n",
    "\n",
    "    trainer.fit(model=model, datamodule=dataModule)"
   ]
  },
  {
   "cell_type": "code",
   "execution_count": null,
   "id": "3fc7b86d",
   "metadata": {},
   "outputs": [],
   "source": [
    "hyperparams = {'hidden_size': 46,\n",
    " 'num_layers': 2,\n",
    " 'lr': 0.006910149762728569,\n",
    " 'dropout': 0.13197445494029517,\n",
    " 'sequence_legth': 24}\n",
    "\n",
    "for i, row in coins.iterrows():    \n",
    "    name = row[0]\n",
    "    export_dir = f\"../models/exports/{name}\"\n",
    "    os.makedirs(export_dir, exist_ok=True)\n",
    "\n",
    "    checkpoint_callback = ModelCheckpoint(\n",
    "        dirpath = f\"../models/checkpoints/{name}\",\n",
    "        filename = \"checkpoints\",\n",
    "        save_top_k=1,\n",
    "        monitor=\"val_loss\",\n",
    "        mode=\"min\"\n",
    "    )\n",
    "\n",
    "    #Change the values\n",
    "    model = LitTrainer(hidden_size=hyperparams[\"hidden_size\"], num_layers=hyperparams[\"num_layers\"], lr=hyperparams[\"lr\"], dropout=hyperparams[\"dropout\"])\n",
    "    X, y = splitData(name, sequence_length=hyperparams[\"sequence_legth\"])\n",
    "    trainModel(model, X, y, checkpoint_callback)\n",
    "    \n",
    "    best_ckpt_path = checkpoint_callback.best_model_path\n",
    "    print(f\"Best checkpoint for {name}: {best_ckpt_path}\")\n",
    "\n",
    "    best_model = LitTrainer.load_from_checkpoint(best_ckpt_path, hidden_size=hyperparams[\"hidden_size\"], num_layers=hyperparams[\"num_layers\"], dropout=hyperparams[\"dropout\"])\n",
    "\n",
    "    export_state_dict_path = os.path.join(export_dir, \"best_model.pth\")\n",
    "    torch.save(best_model.state_dict(), export_state_dict_path)\n"
   ]
  }
 ],
 "metadata": {
  "kernelspec": {
   "display_name": "TF-ML",
   "language": "python",
   "name": "python3"
  },
  "language_info": {
   "codemirror_mode": {
    "name": "ipython",
    "version": 3
   },
   "file_extension": ".py",
   "mimetype": "text/x-python",
   "name": "python",
   "nbconvert_exporter": "python",
   "pygments_lexer": "ipython3",
   "version": "3.11.0"
  }
 },
 "nbformat": 4,
 "nbformat_minor": 5
}
