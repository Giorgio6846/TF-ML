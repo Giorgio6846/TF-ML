{
 "cells": [
  {
   "cell_type": "markdown",
   "id": "18accfaa",
   "metadata": {},
   "source": [
    "# Importe de librerias"
   ]
  },
  {
   "cell_type": "code",
   "execution_count": null,
   "id": "e3eb361c",
   "metadata": {},
   "outputs": [],
   "source": [
    "import pandas as pd\n",
    "import json\n",
    "import lightning as L\n",
    "import numpy as np\n",
    "from sklearn.preprocessing import MinMaxScaler\n",
    "from sklearn.model_selection import train_test_split\n",
    "import torch\n",
    "from pytorch_lightning.callbacks import ModelCheckpoint"
   ]
  },
  {
   "cell_type": "code",
   "execution_count": null,
   "id": "91b36912",
   "metadata": {},
   "outputs": [],
   "source": [
    "from dataset import LitPriceData\n",
    "from trainer import LitTrainer"
   ]
  },
  {
   "cell_type": "markdown",
   "id": "52704334",
   "metadata": {},
   "source": [
    "# Carga de monedas selecionadas"
   ]
  },
  {
   "cell_type": "code",
   "execution_count": 3,
   "id": "c604b931",
   "metadata": {},
   "outputs": [
    {
     "data": {
      "application/vnd.microsoft.datawrangler.viewer.v0+json": {
       "columns": [
        {
         "name": "index",
         "rawType": "int64",
         "type": "integer"
        },
        {
         "name": "0",
         "rawType": "object",
         "type": "string"
        }
       ],
       "ref": "fa76ae3e-a300-45e1-ac58-6eea9af816ae",
       "rows": [
        [
         "0",
         "celestia"
        ],
        [
         "1",
         "flare-networks"
        ],
        [
         "2",
         "polygon-bridged-usdt-polygon"
        ],
        [
         "3",
         "xdce-crowd-sale"
        ],
        [
         "4",
         "injective-protocol"
        ],
        [
         "5",
         "virtual-protocol"
        ],
        [
         "6",
         "blockstack"
        ],
        [
         "7",
         "sonic-3"
        ],
        [
         "8",
         "binance-bridged-usdc-bnb-smart-chain"
        ],
        [
         "9",
         "mantle-staked-ether"
        ],
        [
         "10",
         "stakewise-v3-oseth"
        ],
        [
         "11",
         "optimism"
        ],
        [
         "12",
         "pudgy-penguins"
        ],
        [
         "13",
         "syrupusdc"
        ],
        [
         "14",
         "story-2"
        ]
       ],
       "shape": {
        "columns": 1,
        "rows": 15
       }
      },
      "text/html": [
       "<div>\n",
       "<style scoped>\n",
       "    .dataframe tbody tr th:only-of-type {\n",
       "        vertical-align: middle;\n",
       "    }\n",
       "\n",
       "    .dataframe tbody tr th {\n",
       "        vertical-align: top;\n",
       "    }\n",
       "\n",
       "    .dataframe thead th {\n",
       "        text-align: right;\n",
       "    }\n",
       "</style>\n",
       "<table border=\"1\" class=\"dataframe\">\n",
       "  <thead>\n",
       "    <tr style=\"text-align: right;\">\n",
       "      <th></th>\n",
       "      <th>0</th>\n",
       "    </tr>\n",
       "  </thead>\n",
       "  <tbody>\n",
       "    <tr>\n",
       "      <th>0</th>\n",
       "      <td>celestia</td>\n",
       "    </tr>\n",
       "    <tr>\n",
       "      <th>1</th>\n",
       "      <td>flare-networks</td>\n",
       "    </tr>\n",
       "    <tr>\n",
       "      <th>2</th>\n",
       "      <td>polygon-bridged-usdt-polygon</td>\n",
       "    </tr>\n",
       "    <tr>\n",
       "      <th>3</th>\n",
       "      <td>xdce-crowd-sale</td>\n",
       "    </tr>\n",
       "    <tr>\n",
       "      <th>4</th>\n",
       "      <td>injective-protocol</td>\n",
       "    </tr>\n",
       "    <tr>\n",
       "      <th>5</th>\n",
       "      <td>virtual-protocol</td>\n",
       "    </tr>\n",
       "    <tr>\n",
       "      <th>6</th>\n",
       "      <td>blockstack</td>\n",
       "    </tr>\n",
       "    <tr>\n",
       "      <th>7</th>\n",
       "      <td>sonic-3</td>\n",
       "    </tr>\n",
       "    <tr>\n",
       "      <th>8</th>\n",
       "      <td>binance-bridged-usdc-bnb-smart-chain</td>\n",
       "    </tr>\n",
       "    <tr>\n",
       "      <th>9</th>\n",
       "      <td>mantle-staked-ether</td>\n",
       "    </tr>\n",
       "    <tr>\n",
       "      <th>10</th>\n",
       "      <td>stakewise-v3-oseth</td>\n",
       "    </tr>\n",
       "    <tr>\n",
       "      <th>11</th>\n",
       "      <td>optimism</td>\n",
       "    </tr>\n",
       "    <tr>\n",
       "      <th>12</th>\n",
       "      <td>pudgy-penguins</td>\n",
       "    </tr>\n",
       "    <tr>\n",
       "      <th>13</th>\n",
       "      <td>syrupusdc</td>\n",
       "    </tr>\n",
       "    <tr>\n",
       "      <th>14</th>\n",
       "      <td>story-2</td>\n",
       "    </tr>\n",
       "  </tbody>\n",
       "</table>\n",
       "</div>"
      ],
      "text/plain": [
       "                                       0\n",
       "0                               celestia\n",
       "1                         flare-networks\n",
       "2           polygon-bridged-usdt-polygon\n",
       "3                        xdce-crowd-sale\n",
       "4                     injective-protocol\n",
       "5                       virtual-protocol\n",
       "6                             blockstack\n",
       "7                                sonic-3\n",
       "8   binance-bridged-usdc-bnb-smart-chain\n",
       "9                    mantle-staked-ether\n",
       "10                    stakewise-v3-oseth\n",
       "11                              optimism\n",
       "12                        pudgy-penguins\n",
       "13                             syrupusdc\n",
       "14                               story-2"
      ]
     },
     "execution_count": 3,
     "metadata": {},
     "output_type": "execute_result"
    }
   ],
   "source": [
    "coins = pd.read_json('../data/selected_coins.json')\n",
    "coins"
   ]
  },
  {
   "cell_type": "code",
   "execution_count": null,
   "id": "edc5ddde",
   "metadata": {},
   "outputs": [],
   "source": [
    "def priceDataframe(name):\n",
    "    jsonPath = f\"../data/info_{name}.json\"\n",
    "    with open(jsonPath, \"r\") as f:\n",
    "        data = json.load(f) \n",
    "        \n",
    "    df = pd.DataFrame({\n",
    "        \"price_timestamp\": [item[0] for item in data[\"prices\"]],\n",
    "        \"price\": [item[1] for item in data[\"prices\"]],\n",
    "        \"market_caps_timestamp\": [item[0] for item in data[\"market_caps\"]],\n",
    "        \"market_caps\": [item[1] for item in data[\"market_caps\"]],\n",
    "        \"volume_timestamp\": [item[0] for item in data[\"total_volumes\"]],\n",
    "        \"volume\": [item[1] for item in data[\"total_volumes\"]]\n",
    "    })\n",
    "    \n",
    "    df[\"price_timestamp\"] = pd.to_datetime(df[\"price_timestamp\"], unit=\"ms\")\n",
    "    #df[\"market_caps_timestamp\"] = pd.to_datetime(df[\"market_caps_timestamp\"], unit=\"ms\")\n",
    "    #df[\"volume_timestamp\"] = pd.to_datetime(df[\"volume_timestamp\"], unit=\"ms\")\n",
    "\n",
    "    df[\"hour\"] = df[\"price_timestamp\"].dt.hour\n",
    "    #df[\"market_caps_timestamp_hour\"] = df[\"market_caps_timestamp\"].dt.hour\n",
    "    #df[\"volume_timestamp_hour\"] = df[\"volume_timestamp\"].dt.hour\n",
    "\n",
    "    df[\"dayweek\"] = df[\"price_timestamp\"].dt.dayofweek\n",
    "    #df[\"market_caps_timestamp_dayweek\"] = df[\"market_caps_timestamp\"].dt.dayofweek\n",
    "    #df[\"volume_timestamp_dayweek\"] = df[\"volume_timestamp\"].dt.dayofweek\n",
    "\n",
    "    df[\"hour_cos\"] = np.cos(2 * np.pi * df[\"hour\"] / 24)\n",
    "    df[\"hour_sin\"] = np.sin(2 * np.pi * df[\"hour\"] / 24)\n",
    "\n",
    "    df[\"dayweek_cos\"] = np.cos(2 * np.pi * df[\"hour\"] / 7)\n",
    "    df[\"dayweek_sin\"] = np.sin(2 * np.pi * df[\"hour\"] / 7)\n",
    "\n",
    "    df.drop(columns=[\"price_timestamp\", \"market_caps_timestamp\", \"volume_timestamp\"], inplace=True)\n",
    "    df.drop(columns=[\"hour\", \"dayweek\"], inplace=True)\n",
    "\n",
    "    return df"
   ]
  },
  {
   "cell_type": "code",
   "execution_count": null,
   "id": "7708f019",
   "metadata": {},
   "outputs": [],
   "source": [
    "def splitData(name, sl=72, po=120):\n",
    "    df = priceDataframe(name)\n",
    "\n",
    "    X, y = [], []\n",
    "    for i in range(len(df) - sl - po):\n",
    "        X.append(df[i : i + sl])\n",
    "        y.append(df[i + sl + po - 1])\n",
    "\n",
    "    X = np.array(X)\n",
    "    y = np.array(y)\n",
    "    \n",
    "    X_tensor = torch.tensor(X, dtype=torch.float32)\n",
    "    y_tensor = torch.tensor(y, dtype=torch.float32)   \n",
    "    \n",
    "    return X_tensor, y_tensor"
   ]
  },
  {
   "cell_type": "code",
   "execution_count": null,
   "id": "788753a0",
   "metadata": {},
   "outputs": [],
   "source": [
    "def trainModel(model, X, y, checkpoint_callback=None):\n",
    "    X_train, X_val, y_train, y_val = train_test_split(X, y, test_size=0.2, random_state=42)\n",
    "    dataModule = LitPriceData(X_train, y_train, X_val, y_val)\n",
    "       \n",
    "    if checkpoint_callback is not None:\n",
    "        trainer = L.Trainer(max_epochs=50, accelerator=\"auto\", callbacks=[checkpoint_callback])\n",
    "    else:\n",
    "        trainer = L.Trainer(max_epochs=50, accelerator=\"auto\")\n",
    "\n",
    "    trainer.fit(model=model, datamodule=dataModule)"
   ]
  },
  {
   "cell_type": "code",
   "execution_count": null,
   "id": "3fc7b86d",
   "metadata": {},
   "outputs": [
    {
     "name": "stdout",
     "output_type": "stream",
     "text": [
      "celestia\n",
      "flare-networks\n",
      "polygon-bridged-usdt-polygon\n",
      "xdce-crowd-sale\n",
      "injective-protocol\n",
      "virtual-protocol\n",
      "blockstack\n",
      "sonic-3\n",
      "binance-bridged-usdc-bnb-smart-chain\n",
      "mantle-staked-ether\n",
      "stakewise-v3-oseth\n",
      "optimism\n",
      "pudgy-penguins\n",
      "syrupusdc\n",
      "story-2\n"
     ]
    }
   ],
   "source": [
    "for i, row in coins.iterrows():    \n",
    "    name = row[0]\n",
    "\n",
    "    checkpoint_callback = ModelCheckpoint(\n",
    "        dirpath = f\"../models/{name}\"\n",
    "        filename = \"checkpoints\",\n",
    "        save_top_k=2,\n",
    "        monitor=\"val_loss\",\n",
    "        mode=\"min\"        \n",
    "    )\n",
    "\n",
    "    #Change the values\n",
    "    model = LitTrainer(hidden_size=256, num_layers=3, lr=1e-3)\n",
    "    X, y = splitData(name)\n",
    "    trainModel(model, X, y, checkpoint_callback)"
   ]
  }
 ],
 "metadata": {
  "kernelspec": {
   "display_name": "TF-ML",
   "language": "python",
   "name": "python3"
  },
  "language_info": {
   "codemirror_mode": {
    "name": "ipython",
    "version": 3
   },
   "file_extension": ".py",
   "mimetype": "text/x-python",
   "name": "python",
   "nbconvert_exporter": "python",
   "pygments_lexer": "ipython3",
   "version": "3.11.0"
  }
 },
 "nbformat": 4,
 "nbformat_minor": 5
}
