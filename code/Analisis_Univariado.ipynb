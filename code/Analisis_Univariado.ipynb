{
 "cells": [
  {
   "cell_type": "code",
   "execution_count": 7,
   "id": "84f4dec2",
   "metadata": {},
   "outputs": [],
   "source": [
    "import pandas as pd\n",
    "import seaborn as sns\n",
    "import matplotlib.pyplot as plt\n",
    "import numpy as np\n",
    "import json"
   ]
  },
  {
   "cell_type": "markdown",
   "id": "b956e0c5",
   "metadata": {},
   "source": [
    "# Analisis univariado de la capitalizacion de las criptomonedas"
   ]
  },
  {
   "cell_type": "code",
   "execution_count": 8,
   "id": "92bef6e8",
   "metadata": {},
   "outputs": [
    {
     "data": {
      "application/vnd.microsoft.datawrangler.viewer.v0+json": {
       "columns": [
        {
         "name": "index",
         "rawType": "int64",
         "type": "integer"
        },
        {
         "name": "id",
         "rawType": "object",
         "type": "string"
        },
        {
         "name": "symbol",
         "rawType": "object",
         "type": "string"
        },
        {
         "name": "name",
         "rawType": "object",
         "type": "string"
        },
        {
         "name": "market_cap",
         "rawType": "int64",
         "type": "integer"
        },
        {
         "name": "market_cap_rank",
         "rawType": "int64",
         "type": "integer"
        },
        {
         "name": "fully_diluted_valuation",
         "rawType": "int64",
         "type": "integer"
        },
        {
         "name": "total_volume",
         "rawType": "int64",
         "type": "integer"
        },
        {
         "name": "high_24h",
         "rawType": "float64",
         "type": "float"
        },
        {
         "name": "low_24h",
         "rawType": "float64",
         "type": "float"
        },
        {
         "name": "price_change_24h",
         "rawType": "float64",
         "type": "float"
        },
        {
         "name": "price_change_percentage_24h",
         "rawType": "float64",
         "type": "float"
        },
        {
         "name": "market_cap_change_24h",
         "rawType": "float64",
         "type": "float"
        },
        {
         "name": "market_cap_change_percentage_24h",
         "rawType": "float64",
         "type": "float"
        },
        {
         "name": "circulating_supply",
         "rawType": "float64",
         "type": "float"
        },
        {
         "name": "total_supply",
         "rawType": "float64",
         "type": "float"
        },
        {
         "name": "ath",
         "rawType": "float64",
         "type": "float"
        },
        {
         "name": "ath_change_percentage",
         "rawType": "float64",
         "type": "float"
        },
        {
         "name": "ath_date",
         "rawType": "object",
         "type": "string"
        },
        {
         "name": "atl",
         "rawType": "float64",
         "type": "float"
        },
        {
         "name": "atl_change_percentage",
         "rawType": "float64",
         "type": "float"
        },
        {
         "name": "atl_date",
         "rawType": "object",
         "type": "string"
        },
        {
         "name": "last_updated",
         "rawType": "object",
         "type": "string"
        }
       ],
       "ref": "0d007923-51a1-4e63-bb36-326985ec1743",
       "rows": [
        [
         "0",
         "bitcoin",
         "btc",
         "Bitcoin",
         "2166351787943",
         "1",
         "2166351787943",
         "19248671189",
         "109574.0",
         "107876.0",
         "861.73",
         "0.7975300000000001",
         "17566928950.0",
         "0.8175300000000001",
         "19888800.0",
         "19888800.0",
         "111814.0",
         "-2.49758",
         "2025-05-22T18:41:28.492Z",
         "67.81",
         "160677.35108",
         "2013-07-06T00:00:00.000Z",
         "2025-07-07T09:10:59.937Z"
        ],
        [
         "1",
         "ethereum",
         "eth",
         "Ethereum",
         "311465590739",
         "2",
         "311465590739",
         "10178254759",
         "2598.09",
         "2507.37",
         "65.13",
         "2.59026",
         "7904014582.0",
         "2.6037600000000003",
         "120716893.5985465",
         "120716893.5985465",
         "4878.26",
         "-47.04228",
         "2021-11-10T14:24:19.604Z",
         "0.432979",
         "596560.90086",
         "2015-10-20T00:00:00.000Z",
         "2025-07-07T09:11:01.655Z"
        ],
        [
         "2",
         "tether",
         "usdt",
         "Tether",
         "158581986370",
         "3",
         "158581986370",
         "38607044196",
         "1.0",
         "0.9999119999999999",
         "-0.00011831176317400002",
         "-0.01183",
         "-36356878.14923096",
         "-0.022920000000000003",
         "158581664726.5151",
         "158581664726.5151",
         "1.32",
         "-24.41903",
         "2018-07-24T00:00:00.000Z",
         "0.572521",
         "74.66753",
         "2015-03-02T00:00:00.000Z",
         "2025-07-07T09:10:56.490Z"
        ],
        [
         "3",
         "ripple",
         "xrp",
         "XRP",
         "134226995383",
         "4",
         "227208867494",
         "2176743916",
         "2.29",
         "2.25",
         "0.02468422",
         "1.09822",
         "1554342836.0",
         "1.17156",
         "59068187926.0",
         "99985968138.0",
         "3.4",
         "-33.09811",
         "2018-01-07T00:00:00.000Z",
         "0.00268621",
         "84540.81978",
         "2014-05-22T00:00:00.000Z",
         "2025-07-07T09:10:55.265Z"
        ],
        [
         "4",
         "binancecoin",
         "bnb",
         "BNB",
         "96721163010",
         "5",
         "96721163010",
         "646818500",
         "665.17",
         "654.11",
         "8.32",
         "1.27122",
         "1194222064.0",
         "1.25014",
         "145887575.79",
         "145887575.79",
         "788.84",
         "-15.9748",
         "2024-12-04T10:35:25.220Z",
         "0.0398177",
         "1664555.29349",
         "2017-10-19T00:00:00.000Z",
         "2025-07-07T09:10:59.029Z"
        ]
       ],
       "shape": {
        "columns": 22,
        "rows": 5
       }
      },
      "text/html": [
       "<div>\n",
       "<style scoped>\n",
       "    .dataframe tbody tr th:only-of-type {\n",
       "        vertical-align: middle;\n",
       "    }\n",
       "\n",
       "    .dataframe tbody tr th {\n",
       "        vertical-align: top;\n",
       "    }\n",
       "\n",
       "    .dataframe thead th {\n",
       "        text-align: right;\n",
       "    }\n",
       "</style>\n",
       "<table border=\"1\" class=\"dataframe\">\n",
       "  <thead>\n",
       "    <tr style=\"text-align: right;\">\n",
       "      <th></th>\n",
       "      <th>id</th>\n",
       "      <th>symbol</th>\n",
       "      <th>name</th>\n",
       "      <th>market_cap</th>\n",
       "      <th>market_cap_rank</th>\n",
       "      <th>fully_diluted_valuation</th>\n",
       "      <th>total_volume</th>\n",
       "      <th>high_24h</th>\n",
       "      <th>low_24h</th>\n",
       "      <th>price_change_24h</th>\n",
       "      <th>...</th>\n",
       "      <th>market_cap_change_percentage_24h</th>\n",
       "      <th>circulating_supply</th>\n",
       "      <th>total_supply</th>\n",
       "      <th>ath</th>\n",
       "      <th>ath_change_percentage</th>\n",
       "      <th>ath_date</th>\n",
       "      <th>atl</th>\n",
       "      <th>atl_change_percentage</th>\n",
       "      <th>atl_date</th>\n",
       "      <th>last_updated</th>\n",
       "    </tr>\n",
       "  </thead>\n",
       "  <tbody>\n",
       "    <tr>\n",
       "      <th>0</th>\n",
       "      <td>bitcoin</td>\n",
       "      <td>btc</td>\n",
       "      <td>Bitcoin</td>\n",
       "      <td>2166351787943</td>\n",
       "      <td>1</td>\n",
       "      <td>2166351787943</td>\n",
       "      <td>19248671189</td>\n",
       "      <td>109574.00</td>\n",
       "      <td>107876.000000</td>\n",
       "      <td>861.730000</td>\n",
       "      <td>...</td>\n",
       "      <td>0.81753</td>\n",
       "      <td>1.988880e+07</td>\n",
       "      <td>1.988880e+07</td>\n",
       "      <td>111814.00</td>\n",
       "      <td>-2.49758</td>\n",
       "      <td>2025-05-22T18:41:28.492Z</td>\n",
       "      <td>67.810000</td>\n",
       "      <td>1.606774e+05</td>\n",
       "      <td>2013-07-06T00:00:00.000Z</td>\n",
       "      <td>2025-07-07T09:10:59.937Z</td>\n",
       "    </tr>\n",
       "    <tr>\n",
       "      <th>1</th>\n",
       "      <td>ethereum</td>\n",
       "      <td>eth</td>\n",
       "      <td>Ethereum</td>\n",
       "      <td>311465590739</td>\n",
       "      <td>2</td>\n",
       "      <td>311465590739</td>\n",
       "      <td>10178254759</td>\n",
       "      <td>2598.09</td>\n",
       "      <td>2507.370000</td>\n",
       "      <td>65.130000</td>\n",
       "      <td>...</td>\n",
       "      <td>2.60376</td>\n",
       "      <td>1.207169e+08</td>\n",
       "      <td>1.207169e+08</td>\n",
       "      <td>4878.26</td>\n",
       "      <td>-47.04228</td>\n",
       "      <td>2021-11-10T14:24:19.604Z</td>\n",
       "      <td>0.432979</td>\n",
       "      <td>5.965609e+05</td>\n",
       "      <td>2015-10-20T00:00:00.000Z</td>\n",
       "      <td>2025-07-07T09:11:01.655Z</td>\n",
       "    </tr>\n",
       "    <tr>\n",
       "      <th>2</th>\n",
       "      <td>tether</td>\n",
       "      <td>usdt</td>\n",
       "      <td>Tether</td>\n",
       "      <td>158581986370</td>\n",
       "      <td>3</td>\n",
       "      <td>158581986370</td>\n",
       "      <td>38607044196</td>\n",
       "      <td>1.00</td>\n",
       "      <td>0.999912</td>\n",
       "      <td>-0.000118</td>\n",
       "      <td>...</td>\n",
       "      <td>-0.02292</td>\n",
       "      <td>1.585817e+11</td>\n",
       "      <td>1.585817e+11</td>\n",
       "      <td>1.32</td>\n",
       "      <td>-24.41903</td>\n",
       "      <td>2018-07-24T00:00:00.000Z</td>\n",
       "      <td>0.572521</td>\n",
       "      <td>7.466753e+01</td>\n",
       "      <td>2015-03-02T00:00:00.000Z</td>\n",
       "      <td>2025-07-07T09:10:56.490Z</td>\n",
       "    </tr>\n",
       "    <tr>\n",
       "      <th>3</th>\n",
       "      <td>ripple</td>\n",
       "      <td>xrp</td>\n",
       "      <td>XRP</td>\n",
       "      <td>134226995383</td>\n",
       "      <td>4</td>\n",
       "      <td>227208867494</td>\n",
       "      <td>2176743916</td>\n",
       "      <td>2.29</td>\n",
       "      <td>2.250000</td>\n",
       "      <td>0.024684</td>\n",
       "      <td>...</td>\n",
       "      <td>1.17156</td>\n",
       "      <td>5.906819e+10</td>\n",
       "      <td>9.998597e+10</td>\n",
       "      <td>3.40</td>\n",
       "      <td>-33.09811</td>\n",
       "      <td>2018-01-07T00:00:00.000Z</td>\n",
       "      <td>0.002686</td>\n",
       "      <td>8.454082e+04</td>\n",
       "      <td>2014-05-22T00:00:00.000Z</td>\n",
       "      <td>2025-07-07T09:10:55.265Z</td>\n",
       "    </tr>\n",
       "    <tr>\n",
       "      <th>4</th>\n",
       "      <td>binancecoin</td>\n",
       "      <td>bnb</td>\n",
       "      <td>BNB</td>\n",
       "      <td>96721163010</td>\n",
       "      <td>5</td>\n",
       "      <td>96721163010</td>\n",
       "      <td>646818500</td>\n",
       "      <td>665.17</td>\n",
       "      <td>654.110000</td>\n",
       "      <td>8.320000</td>\n",
       "      <td>...</td>\n",
       "      <td>1.25014</td>\n",
       "      <td>1.458876e+08</td>\n",
       "      <td>1.458876e+08</td>\n",
       "      <td>788.84</td>\n",
       "      <td>-15.97480</td>\n",
       "      <td>2024-12-04T10:35:25.220Z</td>\n",
       "      <td>0.039818</td>\n",
       "      <td>1.664555e+06</td>\n",
       "      <td>2017-10-19T00:00:00.000Z</td>\n",
       "      <td>2025-07-07T09:10:59.029Z</td>\n",
       "    </tr>\n",
       "  </tbody>\n",
       "</table>\n",
       "<p>5 rows × 22 columns</p>\n",
       "</div>"
      ],
      "text/plain": [
       "            id symbol      name     market_cap  market_cap_rank  \\\n",
       "0      bitcoin    btc   Bitcoin  2166351787943                1   \n",
       "1     ethereum    eth  Ethereum   311465590739                2   \n",
       "2       tether   usdt    Tether   158581986370                3   \n",
       "3       ripple    xrp       XRP   134226995383                4   \n",
       "4  binancecoin    bnb       BNB    96721163010                5   \n",
       "\n",
       "   fully_diluted_valuation  total_volume   high_24h        low_24h  \\\n",
       "0            2166351787943   19248671189  109574.00  107876.000000   \n",
       "1             311465590739   10178254759    2598.09    2507.370000   \n",
       "2             158581986370   38607044196       1.00       0.999912   \n",
       "3             227208867494    2176743916       2.29       2.250000   \n",
       "4              96721163010     646818500     665.17     654.110000   \n",
       "\n",
       "   price_change_24h  ...  market_cap_change_percentage_24h  \\\n",
       "0        861.730000  ...                           0.81753   \n",
       "1         65.130000  ...                           2.60376   \n",
       "2         -0.000118  ...                          -0.02292   \n",
       "3          0.024684  ...                           1.17156   \n",
       "4          8.320000  ...                           1.25014   \n",
       "\n",
       "   circulating_supply  total_supply        ath  ath_change_percentage  \\\n",
       "0        1.988880e+07  1.988880e+07  111814.00               -2.49758   \n",
       "1        1.207169e+08  1.207169e+08    4878.26              -47.04228   \n",
       "2        1.585817e+11  1.585817e+11       1.32              -24.41903   \n",
       "3        5.906819e+10  9.998597e+10       3.40              -33.09811   \n",
       "4        1.458876e+08  1.458876e+08     788.84              -15.97480   \n",
       "\n",
       "                   ath_date        atl atl_change_percentage  \\\n",
       "0  2025-05-22T18:41:28.492Z  67.810000          1.606774e+05   \n",
       "1  2021-11-10T14:24:19.604Z   0.432979          5.965609e+05   \n",
       "2  2018-07-24T00:00:00.000Z   0.572521          7.466753e+01   \n",
       "3  2018-01-07T00:00:00.000Z   0.002686          8.454082e+04   \n",
       "4  2024-12-04T10:35:25.220Z   0.039818          1.664555e+06   \n",
       "\n",
       "                   atl_date              last_updated  \n",
       "0  2013-07-06T00:00:00.000Z  2025-07-07T09:10:59.937Z  \n",
       "1  2015-10-20T00:00:00.000Z  2025-07-07T09:11:01.655Z  \n",
       "2  2015-03-02T00:00:00.000Z  2025-07-07T09:10:56.490Z  \n",
       "3  2014-05-22T00:00:00.000Z  2025-07-07T09:10:55.265Z  \n",
       "4  2017-10-19T00:00:00.000Z  2025-07-07T09:10:59.029Z  \n",
       "\n",
       "[5 rows x 22 columns]"
      ]
     },
     "execution_count": 8,
     "metadata": {},
     "output_type": "execute_result"
    }
   ],
   "source": [
    "analisis = pd.read_json('../data/top_50_coins.json')\n",
    "analisis.drop(columns=[\"image\", \"roi\", \"current_price\", \"max_supply\"], inplace=True)\n",
    "analisis.head()"
   ]
  },
  {
   "cell_type": "markdown",
   "id": "d6b11706",
   "metadata": {},
   "source": [
    "## Grafico Volumen vs Capitalizacion"
   ]
  },
  {
   "cell_type": "code",
   "execution_count": 9,
   "id": "857acd15",
   "metadata": {},
   "outputs": [
    {
     "data": {
      "text/plain": [
       "Text(0, 0.5, 'Total Volume Normalized')"
      ]
     },
     "execution_count": 9,
     "metadata": {},
     "output_type": "execute_result"
    },
    {
     "data": {
      "image/png": "[encoded data removed]",
      "text/plain": [
       "<Figure size 800x600 with 1 Axes>"
      ]
     },
     "metadata": {},
     "output_type": "display_data"
    }
   ],
   "source": [
    "analisis[\"market_cap_norm\"] = np.log(analisis[\"market_cap\"] + 1)\n",
    "analisis[\"total_volume_norm\"] = np.log(analisis[\"total_volume\"] + 1)\n",
    "\n",
    "plt.figure(figsize=(8,6))\n",
    "ax = sns.scatterplot(\n",
    "    data=analisis,\n",
    "    x='market_cap_norm',\n",
    "    y='total_volume_norm',\n",
    "    hue='name',\n",
    "    palette='tab10',\n",
    "    legend=False\n",
    ")\n",
    "\n",
    "ax.set_xlabel('Market Cap Normalized')\n",
    "ax.set_ylabel('Total Volume Normalized')"
   ]
  },
  {
   "cell_type": "markdown",
   "id": "7f162d4c",
   "metadata": {},
   "source": [
    "## Grafico Volumen vs Capitalizacion menor a 10 % "
   ]
  },
  {
   "cell_type": "code",
   "execution_count": 10,
   "id": "379fd61c",
   "metadata": {},
   "outputs": [
    {
     "data": {
      "text/plain": [
       "Text(0, 0.5, 'Total Volume Normalized')"
      ]
     },
     "execution_count": 10,
     "metadata": {},
     "output_type": "execute_result"
    },
    {
     "data": {
      "image/png": "[encoded data removed]",
      "text/plain": [
       "<Figure size 800x600 with 1 Axes>"
      ]
     },
     "metadata": {},
     "output_type": "display_data"
    }
   ],
   "source": [
    "pct = 0.15\n",
    "corte_cap = analisis['market_cap'].quantile(pct)\n",
    "cap = analisis[analisis['market_cap'] < corte_cap]\n",
    "\n",
    "plt.figure(figsize=(8,6))\n",
    "ax = sns.scatterplot(\n",
    "    data=cap,\n",
    "    x='market_cap_norm',\n",
    "    y='total_volume_norm',\n",
    "    hue='name',\n",
    "    palette='tab10',\n",
    "    legend=False\n",
    ")\n",
    "\n",
    "ax.set_xlabel('Market Cap Normalized')\n",
    "ax.set_ylabel('Total Volume Normalized')"
   ]
  },
  {
   "cell_type": "code",
   "execution_count": 11,
   "id": "8865af19",
   "metadata": {},
   "outputs": [
    {
     "name": "stdout",
     "output_type": "stream",
     "text": [
      "Name Coins Selected: ['Celestia', 'Flare', 'Polygon Bridged USDT (Polygon)', 'XDC Network', 'Injective', 'Virtuals Protocol', 'Stacks', 'Sonic', 'Binance Bridged USDC (BNB Smart Chain)', 'Mantle Staked Ether', 'StakeWise Staked ETH', 'Optimism', 'Pudgy Penguins', 'SyrupUSDC', 'Story'] \n",
      " Symbol Coins Selected:  ['tia', 'flr', 'usdt', 'xdc', 'inj', 'virtual', 'stx', 's', 'usdc', 'meth', 'oseth', 'op', 'pengu', 'syrupusdc', 'ip'] \n",
      " Amount:  15\n"
     ]
    }
   ],
   "source": [
    "selected_coins_name = cap['name'].to_list()\n",
    "selected_coins_symbol = cap['symbol'].to_list()\n",
    "\n",
    "\n",
    "\n",
    "print(\"Name Coins Selected:\", selected_coins_name, \"\\n\", \"Symbol Coins Selected: \", selected_coins_symbol, \"\\n\", \"Amount: \", len(selected_coins_name))"
   ]
  },
  {
   "cell_type": "markdown",
   "id": "c8ccc0f7",
   "metadata": {},
   "source": [
    "# Guardado de cryptomonedas selecionadas"
   ]
  },
  {
   "cell_type": "code",
   "execution_count": 13,
   "id": "38fac635",
   "metadata": {},
   "outputs": [],
   "source": [
    "with open('../data/selected_coins.json', 'w', encoding='utf-8') as f:\n",
    "    json.dump(selected_coins_symbol, f, ensure_ascii=False, indent=2)"
   ]
  },
  {
   "cell_type": "code",
   "execution_count": null,
   "id": "b4f62297",
   "metadata": {},
   "outputs": [],
   "source": []
  }
 ],
 "metadata": {
  "kernelspec": {
   "display_name": "TF-ML",
   "language": "python",
   "name": "python3"
  },
  "language_info": {
   "codemirror_mode": {
    "name": "ipython",
    "version": 3
   },
   "file_extension": ".py",
   "mimetype": "text/x-python",
   "name": "python",
   "nbconvert_exporter": "python",
   "pygments_lexer": "ipython3",
   "version": "3.11.0"
  }
 },
 "nbformat": 4,
 "nbformat_minor": 5
}
