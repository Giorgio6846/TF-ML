{
 "cells": [
  {
   "cell_type": "code",
   "execution_count": 15,
   "id": "f00a5a09",
   "metadata": {},
   "outputs": [
    {
     "data": {
      "text/plain": [
       "True"
      ]
     },
     "execution_count": 15,
     "metadata": {},
     "output_type": "execute_result"
    }
   ],
   "source": [
    "import os\n",
    "import requests\n",
    "from dotenv import load_dotenv\n",
    "import json\n",
    "\n",
    "load_dotenv()"
   ]
  },
  {
   "cell_type": "code",
   "execution_count": 16,
   "id": "65ce412a",
   "metadata": {},
   "outputs": [],
   "source": [
    "urlCoinGecko = \"https://api.coingecko.com/api/v3/\"\n",
    "apiKey = os.getenv('coingecko_API')\n",
    "\n",
    "headers = {\"accept\": \"application/json\"}\n",
    "headers['Authorization'] = f'Bearer {apiKey}'"
   ]
  },
  {
   "cell_type": "markdown",
   "id": "300fcb1f",
   "metadata": {},
   "source": [
    "# Descarga de capitalizacion de criptomonedas"
   ]
  },
  {
   "cell_type": "code",
   "execution_count": null,
   "id": "f2c6408d",
   "metadata": {},
   "outputs": [],
   "source": [
    "categoryLink = f\"{urlCoinGecko}coins/markets\"\n",
    "parameters = {\n",
    "    'vs_currency': 'usd'\n",
    "}\n",
    "\n",
    "response = requests.get(categoryLink, params=parameters, headers=headers)\n",
    "print(response.text)\n",
    "\n",
    "with open('top_50_coins.json', 'w', encoding='utf-8') as f:\n",
    "    json.dump(response.json(), f, ensure_ascii=False, indent=2)"
   ]
  }
 ],
 "metadata": {
  "kernelspec": {
   "display_name": "TF-ML",
   "language": "python",
   "name": "python3"
  },
  "language_info": {
   "codemirror_mode": {
    "name": "ipython",
    "version": 3
   },
   "file_extension": ".py",
   "mimetype": "text/x-python",
   "name": "python",
   "nbconvert_exporter": "python",
   "pygments_lexer": "ipython3",
   "version": "3.11.0"
  }
 },
 "nbformat": 4,
 "nbformat_minor": 5
}
