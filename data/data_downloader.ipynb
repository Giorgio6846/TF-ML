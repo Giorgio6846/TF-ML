{
 "cells": [
  {
   "cell_type": "markdown",
   "id": "fa4edcdb",
   "metadata": {},
   "source": [
    "# Instalacion de librerias"
   ]
  },
  {
   "cell_type": "code",
   "execution_count": null,
   "id": "f00a5a09",
   "metadata": {},
   "outputs": [],
   "source": [
    "import os\n",
    "import requests\n",
    "from dotenv import load_dotenv\n",
    "import json\n",
    "import pandas as pd\n",
    "\n",
    "load_dotenv()"
   ]
  },
  {
   "cell_type": "code",
   "execution_count": null,
   "id": "65ce412a",
   "metadata": {},
   "outputs": [],
   "source": [
    "urlCoinGecko = \"https://api.coingecko.com/api/v3/\"\n",
    "apiKey = os.getenv('coingecko_API')\n",
    "\n",
    "headers = {\"accept\": \"application/json\"}\n",
    "headers['Authorization'] = f'Bearer {apiKey}'"
   ]
  },
  {
   "cell_type": "markdown",
   "id": "300fcb1f",
   "metadata": {},
   "source": [
    "# Descarga de capitalizacion de criptomonedas"
   ]
  },
  {
   "cell_type": "code",
   "execution_count": null,
   "id": "f2c6408d",
   "metadata": {},
   "outputs": [],
   "source": [
    "categoryLink = f\"{urlCoinGecko}coins/markets\"\n",
    "parameters = {\n",
    "    'vs_currency': 'usd'\n",
    "}\n",
    "\n",
    "response = requests.get(categoryLink, params=parameters, headers=headers)\n",
    "print(response.text)\n",
    "\n",
    "with open('top_50_coins.json', 'w', encoding='utf-8') as f:\n",
    "    json.dump(response.json(), f, ensure_ascii=False, indent=2)"
   ]
  },
  {
   "cell_type": "markdown",
   "id": "341d6fec",
   "metadata": {},
   "source": [
    "# Descarga de historial de las criptomonedas selecionadas"
   ]
  },
  {
   "cell_type": "code",
   "execution_count": null,
   "id": "074ff85b",
   "metadata": {},
   "outputs": [],
   "source": [
    "selectedCoins = pd.read_json(\"selected_coins.json\")\n",
    "selectedCoins"
   ]
  },
  {
   "cell_type": "code",
   "execution_count": null,
   "id": "ce6a69e0",
   "metadata": {},
   "outputs": [],
   "source": [
    "def solicitudInfoMoneda(nameCoin):\n",
    "    categoryLink = f\"{urlCoinGecko}coins/{nameCoin}/market_chart\"\n",
    "    parameters = {\n",
    "        'vs_currency': 'usd',\n",
    "        'days': '89',\n",
    "        'precision': 'full'\n",
    "    }\n",
    "    \n",
    "    response = requests.get(categoryLink, params=parameters, headers=headers)\n",
    "    print(response.text)\n",
    "    \n",
    "    return response"
   ]
  },
  {
   "cell_type": "code",
   "execution_count": null,
   "id": "9bcc5d57",
   "metadata": {},
   "outputs": [],
   "source": [
    "backup = []\n",
    "\n",
    "nameCoin = 'bitcoin'\n",
    "coinInfo = solicitudInfoMoneda(nameCoin)\n",
    "backup.append(coinInfo)\n",
    "with open(f\"info_{nameCoin}.json\", 'w', encoding='utf-8') as f:\n",
    "    json.dump(coinInfo.json(), f, ensure_ascii=False, indent=2)"
   ]
  }
 ],
 "metadata": {
  "kernelspec": {
   "display_name": "TF-ML",
   "language": "python",
   "name": "python3"
  },
  "language_info": {
   "codemirror_mode": {
    "name": "ipython",
    "version": 3
   },
   "file_extension": ".py",
   "mimetype": "text/x-python",
   "name": "python",
   "nbconvert_exporter": "python",
   "pygments_lexer": "ipython3",
   "version": "3.11.0"
  }
 },
 "nbformat": 4,
 "nbformat_minor": 5
}
